{
 "cells": [
  {
   "cell_type": "code",
   "execution_count": 98,
   "id": "acd0e394",
   "metadata": {},
   "outputs": [],
   "source": [
    "import pandas as pd\n",
    "import numpy as np\n",
    "import matplotlib.pyplot as plt\n",
    "import seaborn as sns\n",
    "from datetime import datetime"
   ]
  },
  {
   "cell_type": "code",
   "execution_count": 99,
   "id": "23e340db",
   "metadata": {},
   "outputs": [
    {
     "data": {
      "text/html": [
       "<div>\n",
       "<style scoped>\n",
       "    .dataframe tbody tr th:only-of-type {\n",
       "        vertical-align: middle;\n",
       "    }\n",
       "\n",
       "    .dataframe tbody tr th {\n",
       "        vertical-align: top;\n",
       "    }\n",
       "\n",
       "    .dataframe thead th {\n",
       "        text-align: right;\n",
       "    }\n",
       "</style>\n",
       "<table border=\"1\" class=\"dataframe\">\n",
       "  <thead>\n",
       "    <tr style=\"text-align: right;\">\n",
       "      <th></th>\n",
       "      <th>Date</th>\n",
       "      <th>Open</th>\n",
       "      <th>High</th>\n",
       "      <th>Low</th>\n",
       "      <th>Close</th>\n",
       "      <th>Adj Close</th>\n",
       "      <th>Volume</th>\n",
       "      <th>Dollar</th>\n",
       "    </tr>\n",
       "  </thead>\n",
       "  <tbody>\n",
       "    <tr>\n",
       "      <th>0</th>\n",
       "      <td>03-01-2005</td>\n",
       "      <td>84.937508</td>\n",
       "      <td>85.162506</td>\n",
       "      <td>83.880005</td>\n",
       "      <td>84.847504</td>\n",
       "      <td>70.815315</td>\n",
       "      <td>3814488.0</td>\n",
       "      <td>44.1</td>\n",
       "    </tr>\n",
       "    <tr>\n",
       "      <th>1</th>\n",
       "      <td>04-01-2005</td>\n",
       "      <td>84.937508</td>\n",
       "      <td>85.500008</td>\n",
       "      <td>81.562508</td>\n",
       "      <td>84.268127</td>\n",
       "      <td>70.331779</td>\n",
       "      <td>3809146.0</td>\n",
       "      <td>44.1</td>\n",
       "    </tr>\n",
       "    <tr>\n",
       "      <th>2</th>\n",
       "      <td>05-01-2005</td>\n",
       "      <td>83.700005</td>\n",
       "      <td>83.700005</td>\n",
       "      <td>78.862503</td>\n",
       "      <td>79.571251</td>\n",
       "      <td>66.411659</td>\n",
       "      <td>13460968.0</td>\n",
       "      <td>44.1</td>\n",
       "    </tr>\n",
       "    <tr>\n",
       "      <th>3</th>\n",
       "      <td>06-01-2005</td>\n",
       "      <td>79.537506</td>\n",
       "      <td>80.437508</td>\n",
       "      <td>77.062500</td>\n",
       "      <td>77.557503</td>\n",
       "      <td>64.730949</td>\n",
       "      <td>12063199.0</td>\n",
       "      <td>44.1</td>\n",
       "    </tr>\n",
       "    <tr>\n",
       "      <th>4</th>\n",
       "      <td>07-01-2005</td>\n",
       "      <td>77.625000</td>\n",
       "      <td>78.975006</td>\n",
       "      <td>77.304375</td>\n",
       "      <td>78.721878</td>\n",
       "      <td>65.702766</td>\n",
       "      <td>6582053.0</td>\n",
       "      <td>44.1</td>\n",
       "    </tr>\n",
       "  </tbody>\n",
       "</table>\n",
       "</div>"
      ],
      "text/plain": [
       "         Date       Open       High        Low      Close  Adj Close  \\\n",
       "0  03-01-2005  84.937508  85.162506  83.880005  84.847504  70.815315   \n",
       "1  04-01-2005  84.937508  85.500008  81.562508  84.268127  70.331779   \n",
       "2  05-01-2005  83.700005  83.700005  78.862503  79.571251  66.411659   \n",
       "3  06-01-2005  79.537506  80.437508  77.062500  77.557503  64.730949   \n",
       "4  07-01-2005  77.625000  78.975006  77.304375  78.721878  65.702766   \n",
       "\n",
       "       Volume  Dollar  \n",
       "0   3814488.0    44.1  \n",
       "1   3809146.0    44.1  \n",
       "2  13460968.0    44.1  \n",
       "3  12063199.0    44.1  \n",
       "4   6582053.0    44.1  "
      ]
     },
     "execution_count": 99,
     "metadata": {},
     "output_type": "execute_result"
    }
   ],
   "source": [
    "df_train=pd.read_csv('WIPRO_train.csv')\n",
    "df_test=pd.read_csv(\"WIPRO_test.csv\")\n",
    "df_train.head()"
   ]
  },
  {
   "cell_type": "code",
   "execution_count": 100,
   "id": "5636ad5f",
   "metadata": {},
   "outputs": [],
   "source": [
    "df_train=df_train.dropna()\n",
    "df_test=df_test.dropna()"
   ]
  },
  {
   "cell_type": "code",
   "execution_count": 101,
   "id": "7559d4f4",
   "metadata": {},
   "outputs": [
    {
     "data": {
      "text/plain": [
       "['Open', 'High', 'Low', 'Close', 'Adj Close']"
      ]
     },
     "execution_count": 101,
     "metadata": {},
     "output_type": "execute_result"
    }
   ],
   "source": [
    "features=list(df_train)[1:6]\n",
    "features"
   ]
  },
  {
   "cell_type": "code",
   "execution_count": 102,
   "id": "63d876fe",
   "metadata": {},
   "outputs": [],
   "source": [
    "df_for_training=df_train[features].astype(float)"
   ]
  },
  {
   "cell_type": "code",
   "execution_count": 103,
   "id": "744ffbcc",
   "metadata": {},
   "outputs": [
    {
     "name": "stdout",
     "output_type": "stream",
     "text": [
      "            Open        High         Low       Close   Adj Close\n",
      "0      84.937508   85.162506   83.880005   84.847504   70.815315\n",
      "1      84.937508   85.500008   81.562508   84.268127   70.331779\n",
      "2      83.700005   83.700005   78.862503   79.571251   66.411659\n",
      "3      79.537506   80.437508   77.062500   77.557503   64.730949\n",
      "4      77.625000   78.975006   77.304375   78.721878   65.702766\n",
      "...          ...         ...         ...         ...         ...\n",
      "3209  223.500061  227.550049  222.037552  226.200058  221.217987\n",
      "3210  225.937561  230.250061  223.612549  227.175049  222.171494\n",
      "3211  227.925049  231.000061  225.037552  229.950058  224.885406\n",
      "3212  229.425064  232.425064  226.875061  231.000061  225.912262\n",
      "3213  229.050064  237.300064  227.250061  235.687561  230.496521\n",
      "\n",
      "[3207 rows x 5 columns]\n"
     ]
    }
   ],
   "source": [
    "print(df_for_training)"
   ]
  },
  {
   "cell_type": "code",
   "execution_count": 104,
   "id": "a7d6e700",
   "metadata": {},
   "outputs": [],
   "source": [
    "df_for_testing=df_test[features].astype(float)"
   ]
  },
  {
   "cell_type": "code",
   "execution_count": 105,
   "id": "2ede5442",
   "metadata": {},
   "outputs": [
    {
     "data": {
      "text/html": [
       "<div>\n",
       "<style scoped>\n",
       "    .dataframe tbody tr th:only-of-type {\n",
       "        vertical-align: middle;\n",
       "    }\n",
       "\n",
       "    .dataframe tbody tr th {\n",
       "        vertical-align: top;\n",
       "    }\n",
       "\n",
       "    .dataframe thead th {\n",
       "        text-align: right;\n",
       "    }\n",
       "</style>\n",
       "<table border=\"1\" class=\"dataframe\">\n",
       "  <thead>\n",
       "    <tr style=\"text-align: right;\">\n",
       "      <th></th>\n",
       "      <th>Open</th>\n",
       "      <th>High</th>\n",
       "      <th>Low</th>\n",
       "      <th>Close</th>\n",
       "      <th>Adj Close</th>\n",
       "    </tr>\n",
       "  </thead>\n",
       "  <tbody>\n",
       "    <tr>\n",
       "      <th>0</th>\n",
       "      <td>233.625061</td>\n",
       "      <td>240.000061</td>\n",
       "      <td>232.087555</td>\n",
       "      <td>237.412552</td>\n",
       "      <td>232.183533</td>\n",
       "    </tr>\n",
       "    <tr>\n",
       "      <th>1</th>\n",
       "      <td>236.887558</td>\n",
       "      <td>243.000061</td>\n",
       "      <td>235.837555</td>\n",
       "      <td>239.025055</td>\n",
       "      <td>233.760529</td>\n",
       "    </tr>\n",
       "    <tr>\n",
       "      <th>2</th>\n",
       "      <td>240.300064</td>\n",
       "      <td>240.300064</td>\n",
       "      <td>231.562561</td>\n",
       "      <td>232.462555</td>\n",
       "      <td>227.342545</td>\n",
       "    </tr>\n",
       "    <tr>\n",
       "      <th>3</th>\n",
       "      <td>232.575058</td>\n",
       "      <td>234.750061</td>\n",
       "      <td>230.587555</td>\n",
       "      <td>233.737564</td>\n",
       "      <td>228.589493</td>\n",
       "    </tr>\n",
       "    <tr>\n",
       "      <th>4</th>\n",
       "      <td>234.750061</td>\n",
       "      <td>235.425064</td>\n",
       "      <td>230.775055</td>\n",
       "      <td>232.162552</td>\n",
       "      <td>227.049149</td>\n",
       "    </tr>\n",
       "    <tr>\n",
       "      <th>...</th>\n",
       "      <td>...</td>\n",
       "      <td>...</td>\n",
       "      <td>...</td>\n",
       "      <td>...</td>\n",
       "      <td>...</td>\n",
       "    </tr>\n",
       "    <tr>\n",
       "      <th>1052</th>\n",
       "      <td>598.000000</td>\n",
       "      <td>598.000000</td>\n",
       "      <td>591.000000</td>\n",
       "      <td>593.549988</td>\n",
       "      <td>593.549988</td>\n",
       "    </tr>\n",
       "    <tr>\n",
       "      <th>1053</th>\n",
       "      <td>592.000000</td>\n",
       "      <td>592.000000</td>\n",
       "      <td>577.500000</td>\n",
       "      <td>580.849976</td>\n",
       "      <td>580.849976</td>\n",
       "    </tr>\n",
       "    <tr>\n",
       "      <th>1054</th>\n",
       "      <td>586.000000</td>\n",
       "      <td>587.000000</td>\n",
       "      <td>580.500000</td>\n",
       "      <td>583.650024</td>\n",
       "      <td>583.650024</td>\n",
       "    </tr>\n",
       "    <tr>\n",
       "      <th>1055</th>\n",
       "      <td>584.000000</td>\n",
       "      <td>584.250000</td>\n",
       "      <td>568.099976</td>\n",
       "      <td>571.099976</td>\n",
       "      <td>571.099976</td>\n",
       "    </tr>\n",
       "    <tr>\n",
       "      <th>1056</th>\n",
       "      <td>568.000000</td>\n",
       "      <td>568.000000</td>\n",
       "      <td>556.200012</td>\n",
       "      <td>558.700012</td>\n",
       "      <td>558.700012</td>\n",
       "    </tr>\n",
       "  </tbody>\n",
       "</table>\n",
       "<p>1057 rows × 5 columns</p>\n",
       "</div>"
      ],
      "text/plain": [
       "            Open        High         Low       Close   Adj Close\n",
       "0     233.625061  240.000061  232.087555  237.412552  232.183533\n",
       "1     236.887558  243.000061  235.837555  239.025055  233.760529\n",
       "2     240.300064  240.300064  231.562561  232.462555  227.342545\n",
       "3     232.575058  234.750061  230.587555  233.737564  228.589493\n",
       "4     234.750061  235.425064  230.775055  232.162552  227.049149\n",
       "...          ...         ...         ...         ...         ...\n",
       "1052  598.000000  598.000000  591.000000  593.549988  593.549988\n",
       "1053  592.000000  592.000000  577.500000  580.849976  580.849976\n",
       "1054  586.000000  587.000000  580.500000  583.650024  583.650024\n",
       "1055  584.000000  584.250000  568.099976  571.099976  571.099976\n",
       "1056  568.000000  568.000000  556.200012  558.700012  558.700012\n",
       "\n",
       "[1057 rows x 5 columns]"
      ]
     },
     "execution_count": 105,
     "metadata": {},
     "output_type": "execute_result"
    }
   ],
   "source": [
    "df_for_testing"
   ]
  },
  {
   "cell_type": "code",
   "execution_count": 106,
   "id": "d98749c3",
   "metadata": {},
   "outputs": [],
   "source": [
    "from sklearn.preprocessing import StandardScaler\n",
    "scaler=StandardScaler()\n",
    "df_for_training_scaled=scaler.fit_transform(df_for_training)"
   ]
  },
  {
   "cell_type": "code",
   "execution_count": 107,
   "id": "ff6b4a2f",
   "metadata": {},
   "outputs": [
    {
     "name": "stdout",
     "output_type": "stream",
     "text": [
      "trainX shape == (3177, 30, 5).\n",
      "trainY_open shape == (3177,).\n",
      "trainY_high shape == (3177,).\n",
      "trainY_low shape == (3177,).\n",
      "trainY_close shape == (3177,).\n",
      "trainY_adjClose shape == (3177,).\n"
     ]
    }
   ],
   "source": [
    "trainX = []\n",
    "trainY_open = []\n",
    "trainY_high = []\n",
    "trainY_low = []\n",
    "trainY_close = []\n",
    "trainY_adjClose = []\n",
    "\n",
    "n_past = 30  # Number of past days we want to use to predict the future.\n",
    "\n",
    "#Reformat input data into a shape: (n_samples x timesteps x n_features)\n",
    "for i in range(n_past, len(df_for_training_scaled)):\n",
    "    trainX.append(df_for_training_scaled[i - n_past:i])\n",
    "    trainY_open.append(df_for_training_scaled[i, 0])\n",
    "    trainY_high.append(df_for_training_scaled[i, 1])\n",
    "    trainY_low.append(df_for_training_scaled[i, 2])\n",
    "    trainY_close.append(df_for_training_scaled[i, 3])\n",
    "    trainY_adjClose.append(df_for_training_scaled[i, 4])\n",
    "\n",
    "trainX, trainY_open,trainY_high,trainY_low,trainY_close,trainY_adjClose = np.array(trainX), np.array(trainY_open),np.array(trainY_high),np.array(trainY_low),np.array(trainY_close),np.array(trainY_adjClose)\n",
    "\n",
    "print('trainX shape == {}.'.format(trainX.shape))\n",
    "print('trainY_open shape == {}.'.format(trainY_open.shape))\n",
    "print('trainY_high shape == {}.'.format(trainY_high.shape))\n",
    "print('trainY_low shape == {}.'.format(trainY_low.shape))\n",
    "print('trainY_close shape == {}.'.format(trainY_close.shape))\n",
    "print('trainY_adjClose shape == {}.'.format(trainY_adjClose.shape))"
   ]
  },
  {
   "cell_type": "code",
   "execution_count": 108,
   "id": "f5333856",
   "metadata": {},
   "outputs": [],
   "source": [
    "from keras.models import Sequential\n",
    "from keras.layers import Dense , Dropout\n",
    "from keras.layers import LSTM"
   ]
  },
  {
   "cell_type": "markdown",
   "id": "e3a7d00e",
   "metadata": {},
   "source": [
    "For Opening Price"
   ]
  },
  {
   "cell_type": "code",
   "execution_count": 109,
   "id": "0c12988b",
   "metadata": {},
   "outputs": [],
   "source": [
    "model_open = Sequential()\n",
    "#first layer\n",
    "model_open.add(LSTM(units=64, activation='tanh', input_shape=(trainX.shape[1], trainX.shape[2]), return_sequences=True))\n",
    "model_open.add(Dropout(0.2))\n",
    "\n",
    "#second layer\n",
    "model_open.add(LSTM(units=60,activation='tanh',return_sequences=True))\n",
    "model_open.add(Dropout(0.3))\n",
    "\n",
    "\n",
    "#third layer\n",
    "model_open.add(LSTM(units=80,activation='tanh',return_sequences=True))\n",
    "model_open.add(Dropout(0.4))\n",
    "\n",
    "\n",
    "\n",
    "#fourth layer\n",
    "model_open.add(LSTM(units=100,activation='tanh'))\n",
    "model_open.add(Dropout(0.5))\n",
    "\n",
    "\n",
    "#last layer\n",
    "model_open.add(Dense(units=1))"
   ]
  },
  {
   "cell_type": "code",
   "execution_count": 110,
   "id": "c5e39e36",
   "metadata": {},
   "outputs": [
    {
     "name": "stdout",
     "output_type": "stream",
     "text": [
      "Model: \"sequential_5\"\n",
      "_________________________________________________________________\n",
      " Layer (type)                Output Shape              Param #   \n",
      "=================================================================\n",
      " lstm_20 (LSTM)              (None, 30, 64)            17920     \n",
      "                                                                 \n",
      " dropout_20 (Dropout)        (None, 30, 64)            0         \n",
      "                                                                 \n",
      " lstm_21 (LSTM)              (None, 30, 60)            30000     \n",
      "                                                                 \n",
      " dropout_21 (Dropout)        (None, 30, 60)            0         \n",
      "                                                                 \n",
      " lstm_22 (LSTM)              (None, 30, 80)            45120     \n",
      "                                                                 \n",
      " dropout_22 (Dropout)        (None, 30, 80)            0         \n",
      "                                                                 \n",
      " lstm_23 (LSTM)              (None, 100)               72400     \n",
      "                                                                 \n",
      " dropout_23 (Dropout)        (None, 100)               0         \n",
      "                                                                 \n",
      " dense_5 (Dense)             (None, 1)                 101       \n",
      "                                                                 \n",
      "=================================================================\n",
      "Total params: 165,541\n",
      "Trainable params: 165,541\n",
      "Non-trainable params: 0\n",
      "_________________________________________________________________\n"
     ]
    }
   ],
   "source": [
    "model_open.compile(optimizer='adam', loss='mse')\n",
    "model_open.summary()"
   ]
  },
  {
   "cell_type": "code",
   "execution_count": 111,
   "id": "7e9c48b6",
   "metadata": {},
   "outputs": [
    {
     "name": "stdout",
     "output_type": "stream",
     "text": [
      "Epoch 1/100\n",
      "90/90 [==============================] - 59s 307ms/step - loss: 0.1093 - val_loss: 0.0159\n",
      "Epoch 2/100\n",
      "90/90 [==============================] - 26s 287ms/step - loss: 0.0404 - val_loss: 0.0211\n",
      "Epoch 3/100\n",
      "90/90 [==============================] - 21s 236ms/step - loss: 0.0383 - val_loss: 0.0173\n",
      "Epoch 4/100\n",
      "90/90 [==============================] - 19s 209ms/step - loss: 0.0335 - val_loss: 0.0362\n",
      "Epoch 5/100\n",
      "90/90 [==============================] - 499s 6s/step - loss: 0.0306 - val_loss: 0.0105\n",
      "Epoch 6/100\n",
      "90/90 [==============================] - 35s 386ms/step - loss: 0.0305 - val_loss: 0.0101\n",
      "Epoch 7/100\n",
      "90/90 [==============================] - 27s 297ms/step - loss: 0.0304 - val_loss: 0.0094\n",
      "Epoch 8/100\n",
      "90/90 [==============================] - 20s 221ms/step - loss: 0.0328 - val_loss: 0.0079\n",
      "Epoch 9/100\n",
      "90/90 [==============================] - 17s 194ms/step - loss: 0.0261 - val_loss: 0.0089\n",
      "Epoch 10/100\n",
      "90/90 [==============================] - 19s 208ms/step - loss: 0.0266 - val_loss: 0.0119\n",
      "Epoch 11/100\n",
      "90/90 [==============================] - 20s 225ms/step - loss: 0.0265 - val_loss: 0.0083\n",
      "Epoch 12/100\n",
      "90/90 [==============================] - 20s 220ms/step - loss: 0.0267 - val_loss: 0.0059\n",
      "Epoch 13/100\n",
      "90/90 [==============================] - 19s 214ms/step - loss: 0.0250 - val_loss: 0.0063\n",
      "Epoch 14/100\n",
      "90/90 [==============================] - 20s 223ms/step - loss: 0.0259 - val_loss: 0.0132\n",
      "Epoch 15/100\n",
      "90/90 [==============================] - 20s 224ms/step - loss: 0.0259 - val_loss: 0.0050\n",
      "Epoch 16/100\n",
      "90/90 [==============================] - 21s 230ms/step - loss: 0.0237 - val_loss: 0.0144\n",
      "Epoch 17/100\n",
      "90/90 [==============================] - 21s 234ms/step - loss: 0.0221 - val_loss: 0.0045\n",
      "Epoch 18/100\n",
      "90/90 [==============================] - 21s 230ms/step - loss: 0.0225 - val_loss: 0.0067\n",
      "Epoch 19/100\n",
      "90/90 [==============================] - 21s 231ms/step - loss: 0.0236 - val_loss: 0.0063\n",
      "Epoch 20/100\n",
      "90/90 [==============================] - 20s 220ms/step - loss: 0.0214 - val_loss: 0.0090\n",
      "Epoch 21/100\n",
      "90/90 [==============================] - 22s 242ms/step - loss: 0.0218 - val_loss: 0.0107\n",
      "Epoch 22/100\n",
      "90/90 [==============================] - 21s 236ms/step - loss: 0.0212 - val_loss: 0.0042\n",
      "Epoch 23/100\n",
      "90/90 [==============================] - 19s 215ms/step - loss: 0.0192 - val_loss: 0.0053\n",
      "Epoch 24/100\n",
      "90/90 [==============================] - 19s 213ms/step - loss: 0.0221 - val_loss: 0.0043\n",
      "Epoch 25/100\n",
      "90/90 [==============================] - 19s 211ms/step - loss: 0.0234 - val_loss: 0.0036\n",
      "Epoch 26/100\n",
      "90/90 [==============================] - 21s 229ms/step - loss: 0.0199 - val_loss: 0.0030\n",
      "Epoch 27/100\n",
      "90/90 [==============================] - 18s 205ms/step - loss: 0.0189 - val_loss: 0.0032\n",
      "Epoch 28/100\n",
      "90/90 [==============================] - 18s 204ms/step - loss: 0.0204 - val_loss: 0.0026\n",
      "Epoch 29/100\n",
      "90/90 [==============================] - 21s 229ms/step - loss: 0.0189 - val_loss: 0.0140\n",
      "Epoch 30/100\n",
      "90/90 [==============================] - 18s 201ms/step - loss: 0.0189 - val_loss: 0.0028\n",
      "Epoch 31/100\n",
      "90/90 [==============================] - 15s 167ms/step - loss: 0.0191 - val_loss: 0.0027\n",
      "Epoch 32/100\n",
      "90/90 [==============================] - 15s 166ms/step - loss: 0.0197 - val_loss: 0.0057\n",
      "Epoch 33/100\n",
      "90/90 [==============================] - 17s 193ms/step - loss: 0.0212 - val_loss: 0.0078\n",
      "Epoch 34/100\n",
      "90/90 [==============================] - 18s 201ms/step - loss: 0.0184 - val_loss: 0.0031\n",
      "Epoch 35/100\n",
      "90/90 [==============================] - 18s 198ms/step - loss: 0.0186 - val_loss: 0.0156\n",
      "Epoch 36/100\n",
      "90/90 [==============================] - 18s 205ms/step - loss: 0.0174 - val_loss: 0.0097\n",
      "Epoch 37/100\n",
      "90/90 [==============================] - 18s 197ms/step - loss: 0.0175 - val_loss: 0.0061\n",
      "Epoch 38/100\n",
      "90/90 [==============================] - 18s 196ms/step - loss: 0.0169 - val_loss: 0.0042\n",
      "Epoch 39/100\n",
      "90/90 [==============================] - 18s 201ms/step - loss: 0.0178 - val_loss: 0.0037\n",
      "Epoch 40/100\n",
      "90/90 [==============================] - 18s 196ms/step - loss: 0.0175 - val_loss: 0.0036\n",
      "Epoch 41/100\n",
      "90/90 [==============================] - 18s 198ms/step - loss: 0.0178 - val_loss: 0.0022\n",
      "Epoch 42/100\n",
      "90/90 [==============================] - 18s 202ms/step - loss: 0.0181 - val_loss: 0.0020\n",
      "Epoch 43/100\n",
      "90/90 [==============================] - 18s 196ms/step - loss: 0.0172 - val_loss: 0.0027\n",
      "Epoch 44/100\n",
      "90/90 [==============================] - 18s 195ms/step - loss: 0.0173 - val_loss: 0.0032\n",
      "Epoch 45/100\n",
      "90/90 [==============================] - 18s 202ms/step - loss: 0.0165 - val_loss: 0.0053\n",
      "Epoch 46/100\n",
      "90/90 [==============================] - 20s 219ms/step - loss: 0.0163 - val_loss: 0.0051\n",
      "Epoch 47/100\n",
      "90/90 [==============================] - 19s 210ms/step - loss: 0.0191 - val_loss: 0.0102\n",
      "Epoch 48/100\n",
      "90/90 [==============================] - 19s 207ms/step - loss: 0.0170 - val_loss: 0.0017\n",
      "Epoch 49/100\n",
      "90/90 [==============================] - 19s 208ms/step - loss: 0.0171 - val_loss: 0.0015\n",
      "Epoch 50/100\n",
      "90/90 [==============================] - 19s 210ms/step - loss: 0.0166 - val_loss: 0.0021\n",
      "Epoch 51/100\n",
      "90/90 [==============================] - 19s 207ms/step - loss: 0.0159 - val_loss: 0.0032\n",
      "Epoch 52/100\n",
      "90/90 [==============================] - 19s 206ms/step - loss: 0.0172 - val_loss: 0.0024\n",
      "Epoch 53/100\n",
      "90/90 [==============================] - 19s 207ms/step - loss: 0.0159 - val_loss: 0.0026\n",
      "Epoch 54/100\n",
      "90/90 [==============================] - 19s 207ms/step - loss: 0.0154 - val_loss: 0.0056\n",
      "Epoch 55/100\n",
      "90/90 [==============================] - 21s 236ms/step - loss: 0.0175 - val_loss: 0.0098\n",
      "Epoch 56/100\n",
      "90/90 [==============================] - 20s 226ms/step - loss: 0.0173 - val_loss: 0.0027\n",
      "Epoch 57/100\n",
      "90/90 [==============================] - 19s 211ms/step - loss: 0.0157 - val_loss: 0.0016\n",
      "Epoch 58/100\n",
      "90/90 [==============================] - 20s 226ms/step - loss: 0.0153 - val_loss: 0.0015\n",
      "Epoch 59/100\n",
      "90/90 [==============================] - 20s 220ms/step - loss: 0.0165 - val_loss: 0.0176\n",
      "Epoch 60/100\n",
      "90/90 [==============================] - 21s 231ms/step - loss: 0.0161 - val_loss: 0.0019\n",
      "Epoch 61/100\n",
      "90/90 [==============================] - 21s 238ms/step - loss: 0.0165 - val_loss: 0.0027\n",
      "Epoch 62/100\n",
      "90/90 [==============================] - 22s 239ms/step - loss: 0.0162 - val_loss: 0.0018\n",
      "Epoch 63/100\n",
      "90/90 [==============================] - 21s 228ms/step - loss: 0.0146 - val_loss: 0.0015\n",
      "Epoch 64/100\n",
      "90/90 [==============================] - 20s 225ms/step - loss: 0.0154 - val_loss: 0.0024\n",
      "Epoch 65/100\n",
      "90/90 [==============================] - 21s 232ms/step - loss: 0.0147 - val_loss: 0.0021\n",
      "Epoch 66/100\n",
      "90/90 [==============================] - 22s 247ms/step - loss: 0.0152 - val_loss: 0.0015\n",
      "Epoch 67/100\n",
      "90/90 [==============================] - 20s 217ms/step - loss: 0.0153 - val_loss: 0.0016\n",
      "Epoch 68/100\n",
      "90/90 [==============================] - 20s 217ms/step - loss: 0.0154 - val_loss: 0.0023\n",
      "Epoch 69/100\n",
      "90/90 [==============================] - 20s 226ms/step - loss: 0.0170 - val_loss: 0.0022\n",
      "Epoch 70/100\n",
      "90/90 [==============================] - 21s 235ms/step - loss: 0.0154 - val_loss: 0.0098\n",
      "Epoch 71/100\n",
      "90/90 [==============================] - 22s 249ms/step - loss: 0.0147 - val_loss: 0.0016\n",
      "Epoch 72/100\n",
      "90/90 [==============================] - 20s 226ms/step - loss: 0.0149 - val_loss: 0.0012\n",
      "Epoch 73/100\n",
      "90/90 [==============================] - 20s 226ms/step - loss: 0.0148 - val_loss: 0.0018\n",
      "Epoch 74/100\n",
      "90/90 [==============================] - 21s 236ms/step - loss: 0.0166 - val_loss: 0.0028\n",
      "Epoch 75/100\n",
      "90/90 [==============================] - 21s 234ms/step - loss: 0.0152 - val_loss: 0.0037\n",
      "Epoch 76/100\n",
      "90/90 [==============================] - 23s 252ms/step - loss: 0.0154 - val_loss: 0.0037\n",
      "Epoch 77/100\n",
      "90/90 [==============================] - 22s 241ms/step - loss: 0.0154 - val_loss: 0.0042\n",
      "Epoch 78/100\n",
      "90/90 [==============================] - 22s 241ms/step - loss: 0.0149 - val_loss: 0.0026\n",
      "Epoch 79/100\n",
      "90/90 [==============================] - 23s 256ms/step - loss: 0.0160 - val_loss: 0.0080\n",
      "Epoch 80/100\n",
      "90/90 [==============================] - 23s 259ms/step - loss: 0.0147 - val_loss: 0.0014\n",
      "Epoch 81/100\n",
      "90/90 [==============================] - 22s 248ms/step - loss: 0.0158 - val_loss: 0.0020\n",
      "Epoch 82/100\n",
      "90/90 [==============================] - 24s 267ms/step - loss: 0.0142 - val_loss: 0.0120\n",
      "Epoch 83/100\n",
      "90/90 [==============================] - 22s 239ms/step - loss: 0.0159 - val_loss: 0.0012\n",
      "Epoch 84/100\n",
      "90/90 [==============================] - 22s 247ms/step - loss: 0.0150 - val_loss: 0.0035\n",
      "Epoch 85/100\n",
      "90/90 [==============================] - 23s 257ms/step - loss: 0.0146 - val_loss: 0.0061\n",
      "Epoch 86/100\n",
      "90/90 [==============================] - 21s 235ms/step - loss: 0.0165 - val_loss: 0.0120\n",
      "Epoch 87/100\n",
      "90/90 [==============================] - 22s 242ms/step - loss: 0.0152 - val_loss: 0.0037\n",
      "Epoch 88/100\n",
      "90/90 [==============================] - 23s 259ms/step - loss: 0.0155 - val_loss: 0.0058\n",
      "Epoch 89/100\n",
      "90/90 [==============================] - 22s 241ms/step - loss: 0.0161 - val_loss: 0.0037\n",
      "Epoch 90/100\n",
      "90/90 [==============================] - 21s 229ms/step - loss: 0.0144 - val_loss: 0.0011\n",
      "Epoch 91/100\n",
      "90/90 [==============================] - 22s 247ms/step - loss: 0.0150 - val_loss: 0.0012\n",
      "Epoch 92/100\n",
      "90/90 [==============================] - 24s 269ms/step - loss: 0.0150 - val_loss: 0.0046\n",
      "Epoch 93/100\n",
      "90/90 [==============================] - 21s 235ms/step - loss: 0.0146 - val_loss: 0.0038\n",
      "Epoch 94/100\n",
      "90/90 [==============================] - 21s 231ms/step - loss: 0.0149 - val_loss: 0.0031\n",
      "Epoch 95/100\n",
      "90/90 [==============================] - 20s 225ms/step - loss: 0.0169 - val_loss: 0.0015\n",
      "Epoch 96/100\n",
      "90/90 [==============================] - 20s 225ms/step - loss: 0.0144 - val_loss: 0.0019\n",
      "Epoch 97/100\n",
      "90/90 [==============================] - 20s 223ms/step - loss: 0.0146 - val_loss: 0.0014\n",
      "Epoch 98/100\n",
      "90/90 [==============================] - 20s 224ms/step - loss: 0.0151 - val_loss: 0.0075\n",
      "Epoch 99/100\n",
      "90/90 [==============================] - 20s 225ms/step - loss: 0.0140 - val_loss: 0.0053\n",
      "Epoch 100/100\n",
      "90/90 [==============================] - 20s 226ms/step - loss: 0.0148 - val_loss: 0.0028\n"
     ]
    },
    {
     "data": {
      "text/plain": [
       "<matplotlib.legend.Legend at 0x1949eb6a288>"
      ]
     },
     "execution_count": 111,
     "metadata": {},
     "output_type": "execute_result"
    },
    {
     "data": {
      "image/png": "[encoded data removed]",
      "text/plain": [
       "<Figure size 640x480 with 1 Axes>"
      ]
     },
     "metadata": {},
     "output_type": "display_data"
    }
   ],
   "source": [
    "history = model_open.fit(trainX, trainY_open, epochs=100, batch_size=32, validation_split=0.1, verbose=1)\n",
    "\n",
    "plt.plot(history.history['loss'], label='Training loss')\n",
    "plt.plot(history.history['val_loss'], label='Validation loss')\n",
    "plt.legend()"
   ]
  },
  {
   "cell_type": "markdown",
   "id": "162c20d3",
   "metadata": {},
   "source": [
    "For High"
   ]
  },
  {
   "cell_type": "code",
   "execution_count": 15,
   "id": "542fc45a",
   "metadata": {},
   "outputs": [],
   "source": [
    "model_high = Sequential()\n",
    "#first layer\n",
    "model_high.add(LSTM(units=64, activation='tanh', input_shape=(trainX.shape[1], trainX.shape[2]), return_sequences=True))\n",
    "model_high.add(Dropout(0.2))\n",
    "\n",
    "#second layer\n",
    "model_high.add(LSTM(units=60,activation='tanh',return_sequences=True))\n",
    "model_high.add(Dropout(0.3))\n",
    "\n",
    "\n",
    "#third layer\n",
    "model_high.add(LSTM(units=80,activation='tanh',return_sequences=True))\n",
    "model_high.add(Dropout(0.4))\n",
    "\n",
    "\n",
    "\n",
    "#fourth layer\n",
    "model_high.add(LSTM(units=100,activation='tanh'))\n",
    "model_high.add(Dropout(0.5))\n",
    "\n",
    "\n",
    "#last layer\n",
    "model_high.add(Dense(units=1))"
   ]
  },
  {
   "cell_type": "code",
   "execution_count": 16,
   "id": "40685037",
   "metadata": {},
   "outputs": [
    {
     "name": "stdout",
     "output_type": "stream",
     "text": [
      "Model: \"sequential_1\"\n",
      "_________________________________________________________________\n",
      " Layer (type)                Output Shape              Param #   \n",
      "=================================================================\n",
      " lstm_4 (LSTM)               (None, 30, 64)            17920     \n",
      "                                                                 \n",
      " dropout_4 (Dropout)         (None, 30, 64)            0         \n",
      "                                                                 \n",
      " lstm_5 (LSTM)               (None, 30, 60)            30000     \n",
      "                                                                 \n",
      " dropout_5 (Dropout)         (None, 30, 60)            0         \n",
      "                                                                 \n",
      " lstm_6 (LSTM)               (None, 30, 80)            45120     \n",
      "                                                                 \n",
      " dropout_6 (Dropout)         (None, 30, 80)            0         \n",
      "                                                                 \n",
      " lstm_7 (LSTM)               (None, 100)               72400     \n",
      "                                                                 \n",
      " dropout_7 (Dropout)         (None, 100)               0         \n",
      "                                                                 \n",
      " dense_1 (Dense)             (None, 1)                 101       \n",
      "                                                                 \n",
      "=================================================================\n",
      "Total params: 165,541\n",
      "Trainable params: 165,541\n",
      "Non-trainable params: 0\n",
      "_________________________________________________________________\n"
     ]
    }
   ],
   "source": [
    "model_high.compile(optimizer='adam', loss='mse')\n",
    "model_high.summary()"
   ]
  },
  {
   "cell_type": "code",
   "execution_count": 17,
   "id": "560e2620",
   "metadata": {},
   "outputs": [
    {
     "name": "stdout",
     "output_type": "stream",
     "text": [
      "Epoch 1/100\n",
      "90/90 [==============================] - 11s 65ms/step - loss: 0.0890 - val_loss: 0.0191\n",
      "Epoch 2/100\n",
      "90/90 [==============================] - 5s 53ms/step - loss: 0.0455 - val_loss: 0.0219\n",
      "Epoch 3/100\n",
      "90/90 [==============================] - 6s 62ms/step - loss: 0.0391 - val_loss: 0.0183\n",
      "Epoch 4/100\n",
      "90/90 [==============================] - 5s 58ms/step - loss: 0.0355 - val_loss: 0.0138\n",
      "Epoch 5/100\n",
      "90/90 [==============================] - 5s 59ms/step - loss: 0.0354 - val_loss: 0.0218\n",
      "Epoch 6/100\n",
      "90/90 [==============================] - 5s 60ms/step - loss: 0.0342 - val_loss: 0.0101\n",
      "Epoch 7/100\n",
      "90/90 [==============================] - 5s 59ms/step - loss: 0.0328 - val_loss: 0.0112\n",
      "Epoch 8/100\n",
      "90/90 [==============================] - 5s 59ms/step - loss: 0.0332 - val_loss: 0.0313\n",
      "Epoch 9/100\n",
      "90/90 [==============================] - 5s 59ms/step - loss: 0.0298 - val_loss: 0.0076\n",
      "Epoch 10/100\n",
      "90/90 [==============================] - 6s 62ms/step - loss: 0.0274 - val_loss: 0.0093\n",
      "Epoch 11/100\n",
      "90/90 [==============================] - 5s 58ms/step - loss: 0.0270 - val_loss: 0.0072\n",
      "Epoch 12/100\n",
      "90/90 [==============================] - 5s 60ms/step - loss: 0.0275 - val_loss: 0.0074\n",
      "Epoch 13/100\n",
      "90/90 [==============================] - 5s 60ms/step - loss: 0.0268 - val_loss: 0.0235\n",
      "Epoch 14/100\n",
      "90/90 [==============================] - 5s 60ms/step - loss: 0.0270 - val_loss: 0.0225\n",
      "Epoch 15/100\n",
      "90/90 [==============================] - 6s 64ms/step - loss: 0.0246 - val_loss: 0.0099\n",
      "Epoch 16/100\n",
      "90/90 [==============================] - 5s 61ms/step - loss: 0.0263 - val_loss: 0.0053\n",
      "Epoch 17/100\n",
      "90/90 [==============================] - 5s 61ms/step - loss: 0.0240 - val_loss: 0.0054\n",
      "Epoch 18/100\n",
      "90/90 [==============================] - 6s 62ms/step - loss: 0.0250 - val_loss: 0.0237\n",
      "Epoch 19/100\n",
      "90/90 [==============================] - 5s 60ms/step - loss: 0.0269 - val_loss: 0.0059\n",
      "Epoch 20/100\n",
      "90/90 [==============================] - 5s 60ms/step - loss: 0.0237 - val_loss: 0.0052\n",
      "Epoch 21/100\n",
      "90/90 [==============================] - 5s 58ms/step - loss: 0.0229 - val_loss: 0.0061\n",
      "Epoch 22/100\n",
      "90/90 [==============================] - 6s 62ms/step - loss: 0.0222 - val_loss: 0.0047\n",
      "Epoch 23/100\n",
      "90/90 [==============================] - 6s 62ms/step - loss: 0.0221 - val_loss: 0.0039\n",
      "Epoch 24/100\n",
      "90/90 [==============================] - 6s 62ms/step - loss: 0.0242 - val_loss: 0.0071\n",
      "Epoch 25/100\n",
      "90/90 [==============================] - 5s 60ms/step - loss: 0.0229 - val_loss: 0.0045\n",
      "Epoch 26/100\n",
      "90/90 [==============================] - 5s 59ms/step - loss: 0.0219 - val_loss: 0.0118\n",
      "Epoch 27/100\n",
      "90/90 [==============================] - 5s 61ms/step - loss: 0.0238 - val_loss: 0.0259\n",
      "Epoch 28/100\n",
      "90/90 [==============================] - 6s 62ms/step - loss: 0.0210 - val_loss: 0.0076\n",
      "Epoch 29/100\n",
      "90/90 [==============================] - 5s 61ms/step - loss: 0.0222 - val_loss: 0.0091\n",
      "Epoch 30/100\n",
      "90/90 [==============================] - 5s 61ms/step - loss: 0.0206 - val_loss: 0.0035\n",
      "Epoch 31/100\n",
      "90/90 [==============================] - 5s 61ms/step - loss: 0.0192 - val_loss: 0.0030\n",
      "Epoch 32/100\n",
      "90/90 [==============================] - 6s 62ms/step - loss: 0.0199 - val_loss: 0.0041\n",
      "Epoch 33/100\n",
      "90/90 [==============================] - 6s 62ms/step - loss: 0.0194 - val_loss: 0.0027\n",
      "Epoch 34/100\n",
      "90/90 [==============================] - 6s 63ms/step - loss: 0.0181 - val_loss: 0.0070\n",
      "Epoch 35/100\n",
      "90/90 [==============================] - 6s 64ms/step - loss: 0.0192 - val_loss: 0.0036\n",
      "Epoch 36/100\n",
      "90/90 [==============================] - 6s 63ms/step - loss: 0.0207 - val_loss: 0.0073\n",
      "Epoch 37/100\n",
      "90/90 [==============================] - 6s 62ms/step - loss: 0.0211 - val_loss: 0.0032\n",
      "Epoch 38/100\n",
      "90/90 [==============================] - 6s 64ms/step - loss: 0.0187 - val_loss: 0.0026\n",
      "Epoch 39/100\n",
      "90/90 [==============================] - 6s 62ms/step - loss: 0.0179 - val_loss: 0.0276\n",
      "Epoch 40/100\n",
      "90/90 [==============================] - 6s 64ms/step - loss: 0.0211 - val_loss: 0.0049\n",
      "Epoch 41/100\n",
      "90/90 [==============================] - 6s 66ms/step - loss: 0.0198 - val_loss: 0.0070\n",
      "Epoch 42/100\n",
      "90/90 [==============================] - 6s 63ms/step - loss: 0.0188 - val_loss: 0.0025\n",
      "Epoch 43/100\n",
      "90/90 [==============================] - 6s 64ms/step - loss: 0.0182 - val_loss: 0.0026\n",
      "Epoch 44/100\n",
      "90/90 [==============================] - 6s 62ms/step - loss: 0.0187 - val_loss: 0.0027\n",
      "Epoch 45/100\n",
      "90/90 [==============================] - 6s 63ms/step - loss: 0.0170 - val_loss: 0.0042\n",
      "Epoch 46/100\n",
      "90/90 [==============================] - 6s 62ms/step - loss: 0.0180 - val_loss: 0.0032\n",
      "Epoch 47/100\n",
      "90/90 [==============================] - 6s 62ms/step - loss: 0.0170 - val_loss: 0.0050\n",
      "Epoch 48/100\n",
      "90/90 [==============================] - 6s 63ms/step - loss: 0.0168 - val_loss: 0.0055\n",
      "Epoch 49/100\n",
      "90/90 [==============================] - 6s 63ms/step - loss: 0.0176 - val_loss: 0.0079\n",
      "Epoch 50/100\n",
      "90/90 [==============================] - 6s 64ms/step - loss: 0.0170 - val_loss: 0.0082\n",
      "Epoch 51/100\n",
      "90/90 [==============================] - 6s 63ms/step - loss: 0.0157 - val_loss: 0.0060\n",
      "Epoch 52/100\n",
      "90/90 [==============================] - 6s 67ms/step - loss: 0.0169 - val_loss: 0.0023\n",
      "Epoch 53/100\n",
      "90/90 [==============================] - 6s 64ms/step - loss: 0.0169 - val_loss: 0.0038\n",
      "Epoch 54/100\n",
      "90/90 [==============================] - 6s 64ms/step - loss: 0.0168 - val_loss: 0.0078\n",
      "Epoch 55/100\n",
      "90/90 [==============================] - 6s 66ms/step - loss: 0.0172 - val_loss: 0.0021\n",
      "Epoch 56/100\n",
      "90/90 [==============================] - 6s 62ms/step - loss: 0.0168 - val_loss: 0.0033\n",
      "Epoch 57/100\n",
      "90/90 [==============================] - 6s 64ms/step - loss: 0.0172 - val_loss: 0.0036\n",
      "Epoch 58/100\n",
      "90/90 [==============================] - 6s 65ms/step - loss: 0.0169 - val_loss: 0.0068\n",
      "Epoch 59/100\n",
      "90/90 [==============================] - 6s 63ms/step - loss: 0.0173 - val_loss: 0.0047\n",
      "Epoch 60/100\n",
      "90/90 [==============================] - 6s 63ms/step - loss: 0.0170 - val_loss: 0.0063\n",
      "Epoch 61/100\n",
      "90/90 [==============================] - 6s 65ms/step - loss: 0.0174 - val_loss: 0.0042\n",
      "Epoch 62/100\n",
      "90/90 [==============================] - 6s 66ms/step - loss: 0.0159 - val_loss: 0.0062\n",
      "Epoch 63/100\n",
      "90/90 [==============================] - 6s 66ms/step - loss: 0.0164 - val_loss: 0.0051\n",
      "Epoch 64/100\n",
      "90/90 [==============================] - 6s 65ms/step - loss: 0.0168 - val_loss: 0.0021\n",
      "Epoch 65/100\n",
      "90/90 [==============================] - 6s 68ms/step - loss: 0.0156 - val_loss: 0.0025\n",
      "Epoch 66/100\n",
      "90/90 [==============================] - 6s 63ms/step - loss: 0.0164 - val_loss: 0.0065\n",
      "Epoch 67/100\n",
      "90/90 [==============================] - 6s 63ms/step - loss: 0.0161 - val_loss: 0.0075\n",
      "Epoch 68/100\n",
      "90/90 [==============================] - 6s 65ms/step - loss: 0.0158 - val_loss: 0.0052\n",
      "Epoch 69/100\n",
      "90/90 [==============================] - 6s 67ms/step - loss: 0.0165 - val_loss: 0.0025\n",
      "Epoch 70/100\n",
      "90/90 [==============================] - 6s 64ms/step - loss: 0.0161 - val_loss: 0.0023\n",
      "Epoch 71/100\n",
      "90/90 [==============================] - 6s 64ms/step - loss: 0.0173 - val_loss: 0.0020\n",
      "Epoch 72/100\n",
      "90/90 [==============================] - 6s 63ms/step - loss: 0.0161 - val_loss: 0.0018\n",
      "Epoch 73/100\n",
      "90/90 [==============================] - 6s 65ms/step - loss: 0.0154 - val_loss: 0.0032\n",
      "Epoch 74/100\n",
      "90/90 [==============================] - 6s 63ms/step - loss: 0.0152 - val_loss: 0.0022\n",
      "Epoch 75/100\n",
      "90/90 [==============================] - 6s 64ms/step - loss: 0.0152 - val_loss: 0.0082\n",
      "Epoch 76/100\n",
      "90/90 [==============================] - 6s 66ms/step - loss: 0.0176 - val_loss: 0.0038\n",
      "Epoch 77/100\n",
      "90/90 [==============================] - 6s 65ms/step - loss: 0.0152 - val_loss: 0.0040\n",
      "Epoch 78/100\n",
      "90/90 [==============================] - 6s 65ms/step - loss: 0.0162 - val_loss: 0.0037\n",
      "Epoch 79/100\n",
      "90/90 [==============================] - 6s 64ms/step - loss: 0.0157 - val_loss: 0.0027\n",
      "Epoch 80/100\n",
      "90/90 [==============================] - 6s 66ms/step - loss: 0.0159 - val_loss: 0.0060\n",
      "Epoch 81/100\n",
      "90/90 [==============================] - 6s 67ms/step - loss: 0.0164 - val_loss: 0.0062\n",
      "Epoch 82/100\n",
      "90/90 [==============================] - 6s 67ms/step - loss: 0.0160 - val_loss: 0.0133\n",
      "Epoch 83/100\n",
      "90/90 [==============================] - 6s 65ms/step - loss: 0.0163 - val_loss: 0.0026\n",
      "Epoch 84/100\n",
      "90/90 [==============================] - 6s 65ms/step - loss: 0.0170 - val_loss: 0.0023\n",
      "Epoch 85/100\n",
      "90/90 [==============================] - 6s 66ms/step - loss: 0.0161 - val_loss: 0.0025\n",
      "Epoch 86/100\n",
      "90/90 [==============================] - 6s 63ms/step - loss: 0.0157 - val_loss: 0.0020\n",
      "Epoch 87/100\n",
      "90/90 [==============================] - 6s 65ms/step - loss: 0.0173 - val_loss: 0.0042\n",
      "Epoch 88/100\n",
      "90/90 [==============================] - 6s 65ms/step - loss: 0.0167 - val_loss: 0.0025\n",
      "Epoch 89/100\n",
      "90/90 [==============================] - 6s 66ms/step - loss: 0.0163 - val_loss: 0.0097\n",
      "Epoch 90/100\n",
      "90/90 [==============================] - 6s 68ms/step - loss: 0.0159 - val_loss: 0.0022\n",
      "Epoch 91/100\n",
      "90/90 [==============================] - 6s 66ms/step - loss: 0.0166 - val_loss: 0.0049\n",
      "Epoch 92/100\n",
      "90/90 [==============================] - 6s 66ms/step - loss: 0.0152 - val_loss: 0.0062\n",
      "Epoch 93/100\n",
      "90/90 [==============================] - 6s 65ms/step - loss: 0.0163 - val_loss: 0.0045\n",
      "Epoch 94/100\n",
      "90/90 [==============================] - 6s 68ms/step - loss: 0.0163 - val_loss: 0.0045\n",
      "Epoch 95/100\n",
      "90/90 [==============================] - 6s 65ms/step - loss: 0.0167 - val_loss: 0.0022\n",
      "Epoch 96/100\n",
      "90/90 [==============================] - 6s 66ms/step - loss: 0.0167 - val_loss: 0.0021\n",
      "Epoch 97/100\n",
      "90/90 [==============================] - 6s 66ms/step - loss: 0.0162 - val_loss: 0.0073\n",
      "Epoch 98/100\n",
      "90/90 [==============================] - 6s 66ms/step - loss: 0.0158 - val_loss: 0.0035\n",
      "Epoch 99/100\n",
      "90/90 [==============================] - 6s 67ms/step - loss: 0.0155 - val_loss: 0.0021\n",
      "Epoch 100/100\n",
      "90/90 [==============================] - 6s 66ms/step - loss: 0.0151 - val_loss: 0.0020\n"
     ]
    },
    {
     "data": {
      "text/plain": [
       "<matplotlib.legend.Legend at 0x194333d08c8>"
      ]
     },
     "execution_count": 17,
     "metadata": {},
     "output_type": "execute_result"
    },
    {
     "data": {
      "image/png": "[encoded data removed]",
      "text/plain": [
       "<Figure size 640x480 with 1 Axes>"
      ]
     },
     "metadata": {},
     "output_type": "display_data"
    }
   ],
   "source": [
    "history = model_high.fit(trainX, trainY_high, epochs=100, batch_size=32, validation_split=0.1, verbose=1)\n",
    "\n",
    "plt.plot(history.history['loss'], label='Training loss')\n",
    "plt.plot(history.history['val_loss'], label='Validation loss')\n",
    "plt.legend()"
   ]
  },
  {
   "cell_type": "markdown",
   "id": "39acdb5a",
   "metadata": {},
   "source": [
    "For Low"
   ]
  },
  {
   "cell_type": "code",
   "execution_count": 18,
   "id": "b3585a54",
   "metadata": {},
   "outputs": [],
   "source": [
    "model_low = Sequential()\n",
    "#first layer\n",
    "model_low.add(LSTM(units=64, activation='tanh', input_shape=(trainX.shape[1], trainX.shape[2]), return_sequences=True))\n",
    "model_low.add(Dropout(0.2))\n",
    "\n",
    "#second layer\n",
    "model_low.add(LSTM(units=60,activation='tanh',return_sequences=True))\n",
    "model_low.add(Dropout(0.3))\n",
    "\n",
    "\n",
    "#third layer\n",
    "model_low.add(LSTM(units=80,activation='tanh',return_sequences=True))\n",
    "model_low.add(Dropout(0.4))\n",
    "\n",
    "\n",
    "\n",
    "#fourth layer\n",
    "model_low.add(LSTM(units=100,activation='tanh'))\n",
    "model_low.add(Dropout(0.5))\n",
    "\n",
    "\n",
    "#last layer\n",
    "model_low.add(Dense(units=1))"
   ]
  },
  {
   "cell_type": "code",
   "execution_count": 19,
   "id": "620593a9",
   "metadata": {},
   "outputs": [
    {
     "name": "stdout",
     "output_type": "stream",
     "text": [
      "Model: \"sequential_2\"\n",
      "_________________________________________________________________\n",
      " Layer (type)                Output Shape              Param #   \n",
      "=================================================================\n",
      " lstm_8 (LSTM)               (None, 30, 64)            17920     \n",
      "                                                                 \n",
      " dropout_8 (Dropout)         (None, 30, 64)            0         \n",
      "                                                                 \n",
      " lstm_9 (LSTM)               (None, 30, 60)            30000     \n",
      "                                                                 \n",
      " dropout_9 (Dropout)         (None, 30, 60)            0         \n",
      "                                                                 \n",
      " lstm_10 (LSTM)              (None, 30, 80)            45120     \n",
      "                                                                 \n",
      " dropout_10 (Dropout)        (None, 30, 80)            0         \n",
      "                                                                 \n",
      " lstm_11 (LSTM)              (None, 100)               72400     \n",
      "                                                                 \n",
      " dropout_11 (Dropout)        (None, 100)               0         \n",
      "                                                                 \n",
      " dense_2 (Dense)             (None, 1)                 101       \n",
      "                                                                 \n",
      "=================================================================\n",
      "Total params: 165,541\n",
      "Trainable params: 165,541\n",
      "Non-trainable params: 0\n",
      "_________________________________________________________________\n"
     ]
    }
   ],
   "source": [
    "model_low.compile(optimizer='adam', loss='mse')\n",
    "model_low.summary()"
   ]
  },
  {
   "cell_type": "code",
   "execution_count": 20,
   "id": "664451aa",
   "metadata": {},
   "outputs": [
    {
     "name": "stdout",
     "output_type": "stream",
     "text": [
      "Epoch 1/100\n",
      "90/90 [==============================] - 12s 70ms/step - loss: 0.0868 - val_loss: 0.0183\n",
      "Epoch 2/100\n",
      "90/90 [==============================] - 5s 60ms/step - loss: 0.0439 - val_loss: 0.0183\n",
      "Epoch 3/100\n",
      "90/90 [==============================] - 6s 62ms/step - loss: 0.0381 - val_loss: 0.0129\n",
      "Epoch 4/100\n",
      "90/90 [==============================] - 5s 61ms/step - loss: 0.0402 - val_loss: 0.0272\n",
      "Epoch 5/100\n",
      "90/90 [==============================] - 6s 62ms/step - loss: 0.0344 - val_loss: 0.0108\n",
      "Epoch 6/100\n",
      "90/90 [==============================] - 5s 61ms/step - loss: 0.0327 - val_loss: 0.0147\n",
      "Epoch 7/100\n",
      "90/90 [==============================] - 6s 62ms/step - loss: 0.0313 - val_loss: 0.0104\n",
      "Epoch 8/100\n",
      "90/90 [==============================] - 6s 62ms/step - loss: 0.0296 - val_loss: 0.0085\n",
      "Epoch 9/100\n",
      "90/90 [==============================] - 6s 63ms/step - loss: 0.0287 - val_loss: 0.0101\n",
      "Epoch 10/100\n",
      "90/90 [==============================] - 6s 63ms/step - loss: 0.0297 - val_loss: 0.0096\n",
      "Epoch 11/100\n",
      "90/90 [==============================] - 6s 62ms/step - loss: 0.0294 - val_loss: 0.0067\n",
      "Epoch 12/100\n",
      "90/90 [==============================] - 6s 62ms/step - loss: 0.0296 - val_loss: 0.0134\n",
      "Epoch 13/100\n",
      "90/90 [==============================] - 5s 61ms/step - loss: 0.0282 - val_loss: 0.0076\n",
      "Epoch 14/100\n",
      "90/90 [==============================] - 6s 64ms/step - loss: 0.0279 - val_loss: 0.0066\n",
      "Epoch 15/100\n",
      "90/90 [==============================] - 6s 65ms/step - loss: 0.0271 - val_loss: 0.0087\n",
      "Epoch 16/100\n",
      "90/90 [==============================] - 6s 63ms/step - loss: 0.0263 - val_loss: 0.0088\n",
      "Epoch 17/100\n",
      "90/90 [==============================] - 6s 63ms/step - loss: 0.0249 - val_loss: 0.0347\n",
      "Epoch 18/100\n",
      "90/90 [==============================] - 6s 63ms/step - loss: 0.0249 - val_loss: 0.0058\n",
      "Epoch 19/100\n",
      "90/90 [==============================] - 5s 61ms/step - loss: 0.0261 - val_loss: 0.0051\n",
      "Epoch 20/100\n",
      "90/90 [==============================] - 5s 60ms/step - loss: 0.0230 - val_loss: 0.0056\n",
      "Epoch 21/100\n",
      "90/90 [==============================] - 6s 66ms/step - loss: 0.0251 - val_loss: 0.0089\n",
      "Epoch 22/100\n",
      "90/90 [==============================] - 6s 63ms/step - loss: 0.0232 - val_loss: 0.0078\n",
      "Epoch 23/100\n",
      "90/90 [==============================] - 6s 62ms/step - loss: 0.0212 - val_loss: 0.0040\n",
      "Epoch 24/100\n",
      "90/90 [==============================] - 6s 62ms/step - loss: 0.0248 - val_loss: 0.0046\n",
      "Epoch 25/100\n",
      "90/90 [==============================] - 6s 62ms/step - loss: 0.0225 - val_loss: 0.0076\n",
      "Epoch 26/100\n",
      "90/90 [==============================] - 6s 61ms/step - loss: 0.0217 - val_loss: 0.0067\n",
      "Epoch 27/100\n",
      "90/90 [==============================] - 6s 63ms/step - loss: 0.0245 - val_loss: 0.0072\n",
      "Epoch 28/100\n",
      "90/90 [==============================] - 6s 63ms/step - loss: 0.0220 - val_loss: 0.0096\n",
      "Epoch 29/100\n",
      "90/90 [==============================] - 6s 62ms/step - loss: 0.0209 - val_loss: 0.0041\n",
      "Epoch 30/100\n",
      "90/90 [==============================] - 6s 67ms/step - loss: 0.0197 - val_loss: 0.0110\n",
      "Epoch 31/100\n",
      "90/90 [==============================] - 6s 63ms/step - loss: 0.0211 - val_loss: 0.0066\n",
      "Epoch 32/100\n",
      "90/90 [==============================] - 6s 64ms/step - loss: 0.0204 - val_loss: 0.0059\n",
      "Epoch 33/100\n",
      "90/90 [==============================] - 6s 64ms/step - loss: 0.0196 - val_loss: 0.0052\n",
      "Epoch 34/100\n",
      "90/90 [==============================] - 6s 63ms/step - loss: 0.0211 - val_loss: 0.0070\n",
      "Epoch 35/100\n",
      "90/90 [==============================] - 6s 63ms/step - loss: 0.0207 - val_loss: 0.0030\n",
      "Epoch 36/100\n",
      "90/90 [==============================] - 6s 64ms/step - loss: 0.0198 - val_loss: 0.0035\n",
      "Epoch 37/100\n",
      "90/90 [==============================] - 6s 66ms/step - loss: 0.0197 - val_loss: 0.0168\n",
      "Epoch 38/100\n",
      "90/90 [==============================] - 6s 62ms/step - loss: 0.0191 - val_loss: 0.0039\n",
      "Epoch 39/100\n",
      "90/90 [==============================] - 6s 63ms/step - loss: 0.0191 - val_loss: 0.0032\n",
      "Epoch 40/100\n",
      "90/90 [==============================] - 6s 64ms/step - loss: 0.0203 - val_loss: 0.0159\n",
      "Epoch 41/100\n",
      "90/90 [==============================] - 6s 62ms/step - loss: 0.0184 - val_loss: 0.0029\n",
      "Epoch 42/100\n",
      "90/90 [==============================] - 6s 61ms/step - loss: 0.0185 - val_loss: 0.0054\n",
      "Epoch 43/100\n",
      "90/90 [==============================] - 6s 64ms/step - loss: 0.0190 - val_loss: 0.0025\n",
      "Epoch 44/100\n",
      "90/90 [==============================] - 6s 65ms/step - loss: 0.0198 - val_loss: 0.0024\n",
      "Epoch 45/100\n",
      "90/90 [==============================] - 6s 63ms/step - loss: 0.0177 - val_loss: 0.0028\n",
      "Epoch 46/100\n",
      "90/90 [==============================] - 6s 63ms/step - loss: 0.0186 - val_loss: 0.0022\n",
      "Epoch 47/100\n",
      "90/90 [==============================] - 6s 63ms/step - loss: 0.0177 - val_loss: 0.0064\n",
      "Epoch 48/100\n",
      "90/90 [==============================] - 6s 63ms/step - loss: 0.0167 - val_loss: 0.0045\n",
      "Epoch 49/100\n",
      "90/90 [==============================] - 6s 63ms/step - loss: 0.0179 - val_loss: 0.0023\n",
      "Epoch 50/100\n",
      "90/90 [==============================] - 6s 64ms/step - loss: 0.0177 - val_loss: 0.0024\n",
      "Epoch 51/100\n",
      "90/90 [==============================] - 6s 66ms/step - loss: 0.0167 - val_loss: 0.0033\n",
      "Epoch 52/100\n",
      "90/90 [==============================] - 6s 64ms/step - loss: 0.0164 - val_loss: 0.0028\n",
      "Epoch 53/100\n",
      "90/90 [==============================] - 6s 65ms/step - loss: 0.0181 - val_loss: 0.0101\n",
      "Epoch 54/100\n",
      "90/90 [==============================] - 6s 63ms/step - loss: 0.0191 - val_loss: 0.0022\n",
      "Epoch 55/100\n",
      "90/90 [==============================] - 6s 64ms/step - loss: 0.0166 - val_loss: 0.0025\n",
      "Epoch 56/100\n",
      "90/90 [==============================] - 6s 63ms/step - loss: 0.0164 - val_loss: 0.0027\n",
      "Epoch 57/100\n",
      "90/90 [==============================] - 6s 64ms/step - loss: 0.0168 - val_loss: 0.0041\n",
      "Epoch 58/100\n",
      "90/90 [==============================] - 6s 64ms/step - loss: 0.0167 - val_loss: 0.0030\n",
      "Epoch 59/100\n",
      "90/90 [==============================] - 6s 64ms/step - loss: 0.0166 - val_loss: 0.0039\n",
      "Epoch 60/100\n",
      "90/90 [==============================] - 6s 63ms/step - loss: 0.0171 - val_loss: 0.0038\n",
      "Epoch 61/100\n",
      "90/90 [==============================] - 6s 64ms/step - loss: 0.0188 - val_loss: 0.0057\n",
      "Epoch 62/100\n",
      "90/90 [==============================] - 6s 68ms/step - loss: 0.0162 - val_loss: 0.0028\n",
      "Epoch 63/100\n",
      "90/90 [==============================] - 6s 65ms/step - loss: 0.0164 - val_loss: 0.0020\n",
      "Epoch 64/100\n",
      "90/90 [==============================] - 6s 63ms/step - loss: 0.0170 - val_loss: 0.0020\n",
      "Epoch 65/100\n",
      "90/90 [==============================] - 6s 64ms/step - loss: 0.0166 - val_loss: 0.0028\n",
      "Epoch 66/100\n",
      "90/90 [==============================] - 6s 65ms/step - loss: 0.0188 - val_loss: 0.0114\n",
      "Epoch 67/100\n",
      "90/90 [==============================] - 6s 65ms/step - loss: 0.0187 - val_loss: 0.0127\n",
      "Epoch 68/100\n",
      "90/90 [==============================] - 6s 66ms/step - loss: 0.0170 - val_loss: 0.0061\n",
      "Epoch 69/100\n",
      "90/90 [==============================] - 6s 65ms/step - loss: 0.0172 - val_loss: 0.0088\n",
      "Epoch 70/100\n",
      "90/90 [==============================] - 6s 66ms/step - loss: 0.0178 - val_loss: 0.0026\n",
      "Epoch 71/100\n",
      "90/90 [==============================] - 6s 65ms/step - loss: 0.0166 - val_loss: 0.0089\n",
      "Epoch 72/100\n",
      "90/90 [==============================] - 6s 64ms/step - loss: 0.0186 - val_loss: 0.0098\n",
      "Epoch 73/100\n",
      "90/90 [==============================] - 6s 65ms/step - loss: 0.0172 - val_loss: 0.0090\n",
      "Epoch 74/100\n",
      "90/90 [==============================] - 6s 68ms/step - loss: 0.0190 - val_loss: 0.0027\n",
      "Epoch 75/100\n",
      "90/90 [==============================] - 6s 66ms/step - loss: 0.0188 - val_loss: 0.0077\n",
      "Epoch 76/100\n",
      "90/90 [==============================] - 6s 68ms/step - loss: 0.0183 - val_loss: 0.0025\n",
      "Epoch 77/100\n",
      "90/90 [==============================] - 6s 67ms/step - loss: 0.0166 - val_loss: 0.0025\n",
      "Epoch 78/100\n",
      "90/90 [==============================] - 6s 66ms/step - loss: 0.0173 - val_loss: 0.0042\n",
      "Epoch 79/100\n",
      "90/90 [==============================] - 6s 65ms/step - loss: 0.0179 - val_loss: 0.0070\n",
      "Epoch 80/100\n",
      "90/90 [==============================] - 6s 68ms/step - loss: 0.0177 - val_loss: 0.0023\n",
      "Epoch 81/100\n",
      "90/90 [==============================] - 6s 64ms/step - loss: 0.0175 - val_loss: 0.0036\n",
      "Epoch 82/100\n",
      "90/90 [==============================] - 6s 64ms/step - loss: 0.0163 - val_loss: 0.0059\n",
      "Epoch 83/100\n",
      "90/90 [==============================] - 6s 67ms/step - loss: 0.0173 - val_loss: 0.0093\n",
      "Epoch 84/100\n",
      "90/90 [==============================] - 6s 66ms/step - loss: 0.0161 - val_loss: 0.0039\n",
      "Epoch 85/100\n",
      "90/90 [==============================] - 6s 65ms/step - loss: 0.0171 - val_loss: 0.0069\n",
      "Epoch 86/100\n",
      "90/90 [==============================] - 6s 66ms/step - loss: 0.0158 - val_loss: 0.0033\n",
      "Epoch 87/100\n",
      "90/90 [==============================] - 6s 66ms/step - loss: 0.0177 - val_loss: 0.0060\n",
      "Epoch 88/100\n",
      "90/90 [==============================] - 6s 67ms/step - loss: 0.0164 - val_loss: 0.0034\n",
      "Epoch 89/100\n",
      "90/90 [==============================] - 6s 67ms/step - loss: 0.0162 - val_loss: 0.0034\n",
      "Epoch 90/100\n",
      "90/90 [==============================] - 6s 67ms/step - loss: 0.0165 - val_loss: 0.0038\n",
      "Epoch 91/100\n",
      "90/90 [==============================] - 6s 67ms/step - loss: 0.0155 - val_loss: 0.0021\n",
      "Epoch 92/100\n",
      "90/90 [==============================] - 6s 65ms/step - loss: 0.0165 - val_loss: 0.0039\n",
      "Epoch 93/100\n",
      "90/90 [==============================] - 6s 67ms/step - loss: 0.0170 - val_loss: 0.0027\n",
      "Epoch 94/100\n",
      "90/90 [==============================] - 6s 67ms/step - loss: 0.0165 - val_loss: 0.0056\n",
      "Epoch 95/100\n",
      "90/90 [==============================] - 6s 68ms/step - loss: 0.0175 - val_loss: 0.0034\n",
      "Epoch 96/100\n",
      "90/90 [==============================] - 6s 68ms/step - loss: 0.0156 - val_loss: 0.0023\n",
      "Epoch 97/100\n",
      "90/90 [==============================] - 6s 68ms/step - loss: 0.0158 - val_loss: 0.0058\n",
      "Epoch 98/100\n",
      "90/90 [==============================] - 6s 67ms/step - loss: 0.0169 - val_loss: 0.0019\n",
      "Epoch 99/100\n",
      "90/90 [==============================] - 6s 69ms/step - loss: 0.0150 - val_loss: 0.0060\n",
      "Epoch 100/100\n",
      "90/90 [==============================] - 6s 65ms/step - loss: 0.0171 - val_loss: 0.0022\n"
     ]
    },
    {
     "data": {
      "text/plain": [
       "<matplotlib.legend.Legend at 0x1944dc23fc8>"
      ]
     },
     "execution_count": 20,
     "metadata": {},
     "output_type": "execute_result"
    },
    {
     "data": {
      "image/png": "[encoded data removed]",
      "text/plain": [
       "<Figure size 640x480 with 1 Axes>"
      ]
     },
     "metadata": {},
     "output_type": "display_data"
    }
   ],
   "source": [
    "history = model_low.fit(trainX, trainY_low, epochs=100, batch_size=32, validation_split=0.1, verbose=1)\n",
    "\n",
    "plt.plot(history.history['loss'], label='Training loss')\n",
    "plt.plot(history.history['val_loss'], label='Validation loss')\n",
    "plt.legend()"
   ]
  },
  {
   "cell_type": "markdown",
   "id": "0fba0ff5",
   "metadata": {},
   "source": [
    "For Close"
   ]
  },
  {
   "cell_type": "code",
   "execution_count": 21,
   "id": "10ff46d6",
   "metadata": {},
   "outputs": [],
   "source": [
    "model_close = Sequential()\n",
    "#first layer\n",
    "model_close.add(LSTM(units=64, activation='tanh', input_shape=(trainX.shape[1], trainX.shape[2]), return_sequences=True))\n",
    "model_close.add(Dropout(0.2))\n",
    "\n",
    "#second layer\n",
    "model_close.add(LSTM(units=60,activation='tanh',return_sequences=True))\n",
    "model_close.add(Dropout(0.3))\n",
    "\n",
    "\n",
    "#third layer\n",
    "model_close.add(LSTM(units=80,activation='tanh',return_sequences=True))\n",
    "model_close.add(Dropout(0.4))\n",
    "\n",
    "\n",
    "\n",
    "#fourth layer\n",
    "model_close.add(LSTM(units=100,activation='tanh'))\n",
    "model_close.add(Dropout(0.5))\n",
    "\n",
    "\n",
    "#last layer\n",
    "model_close.add(Dense(units=1))"
   ]
  },
  {
   "cell_type": "code",
   "execution_count": 22,
   "id": "f13e1492",
   "metadata": {},
   "outputs": [
    {
     "name": "stdout",
     "output_type": "stream",
     "text": [
      "Model: \"sequential_3\"\n",
      "_________________________________________________________________\n",
      " Layer (type)                Output Shape              Param #   \n",
      "=================================================================\n",
      " lstm_12 (LSTM)              (None, 30, 64)            17920     \n",
      "                                                                 \n",
      " dropout_12 (Dropout)        (None, 30, 64)            0         \n",
      "                                                                 \n",
      " lstm_13 (LSTM)              (None, 30, 60)            30000     \n",
      "                                                                 \n",
      " dropout_13 (Dropout)        (None, 30, 60)            0         \n",
      "                                                                 \n",
      " lstm_14 (LSTM)              (None, 30, 80)            45120     \n",
      "                                                                 \n",
      " dropout_14 (Dropout)        (None, 30, 80)            0         \n",
      "                                                                 \n",
      " lstm_15 (LSTM)              (None, 100)               72400     \n",
      "                                                                 \n",
      " dropout_15 (Dropout)        (None, 100)               0         \n",
      "                                                                 \n",
      " dense_3 (Dense)             (None, 1)                 101       \n",
      "                                                                 \n",
      "=================================================================\n",
      "Total params: 165,541\n",
      "Trainable params: 165,541\n",
      "Non-trainable params: 0\n",
      "_________________________________________________________________\n"
     ]
    }
   ],
   "source": [
    "model_close.compile(optimizer='adam', loss='mse')\n",
    "model_close.summary()"
   ]
  },
  {
   "cell_type": "code",
   "execution_count": 23,
   "id": "2e2f41ad",
   "metadata": {},
   "outputs": [
    {
     "name": "stdout",
     "output_type": "stream",
     "text": [
      "Epoch 1/100\n",
      "90/90 [==============================] - 14s 94ms/step - loss: 0.0860 - val_loss: 0.0201\n",
      "Epoch 2/100\n",
      "90/90 [==============================] - 5s 56ms/step - loss: 0.0471 - val_loss: 0.0178\n",
      "Epoch 3/100\n",
      "90/90 [==============================] - 5s 59ms/step - loss: 0.0373 - val_loss: 0.0143\n",
      "Epoch 4/100\n",
      "90/90 [==============================] - 5s 59ms/step - loss: 0.0335 - val_loss: 0.0562\n",
      "Epoch 5/100\n",
      "90/90 [==============================] - 5s 57ms/step - loss: 0.0375 - val_loss: 0.0113\n",
      "Epoch 6/100\n",
      "90/90 [==============================] - 6s 64ms/step - loss: 0.0328 - val_loss: 0.0397\n",
      "Epoch 7/100\n",
      "90/90 [==============================] - 5s 61ms/step - loss: 0.0307 - val_loss: 0.0096\n",
      "Epoch 8/100\n",
      "90/90 [==============================] - 6s 62ms/step - loss: 0.0289 - val_loss: 0.0103\n",
      "Epoch 9/100\n",
      "90/90 [==============================] - 6s 63ms/step - loss: 0.0294 - val_loss: 0.0086\n",
      "Epoch 10/100\n",
      "90/90 [==============================] - 6s 62ms/step - loss: 0.0290 - val_loss: 0.0078\n",
      "Epoch 11/100\n",
      "90/90 [==============================] - 6s 62ms/step - loss: 0.0284 - val_loss: 0.0073\n",
      "Epoch 12/100\n",
      "90/90 [==============================] - 6s 62ms/step - loss: 0.0281 - val_loss: 0.0093\n",
      "Epoch 13/100\n",
      "90/90 [==============================] - 6s 63ms/step - loss: 0.0252 - val_loss: 0.0094\n",
      "Epoch 14/100\n",
      "90/90 [==============================] - 6s 62ms/step - loss: 0.0250 - val_loss: 0.0062\n",
      "Epoch 15/100\n",
      "90/90 [==============================] - 5s 61ms/step - loss: 0.0272 - val_loss: 0.0063\n",
      "Epoch 16/100\n",
      "90/90 [==============================] - 6s 63ms/step - loss: 0.0267 - val_loss: 0.0063\n",
      "Epoch 17/100\n",
      "90/90 [==============================] - 6s 62ms/step - loss: 0.0255 - val_loss: 0.0058\n",
      "Epoch 18/100\n",
      "90/90 [==============================] - 6s 64ms/step - loss: 0.0245 - val_loss: 0.0074\n",
      "Epoch 19/100\n",
      "90/90 [==============================] - 6s 62ms/step - loss: 0.0236 - val_loss: 0.0080\n",
      "Epoch 20/100\n",
      "90/90 [==============================] - 5s 60ms/step - loss: 0.0254 - val_loss: 0.0063\n",
      "Epoch 21/100\n",
      "90/90 [==============================] - 6s 63ms/step - loss: 0.0236 - val_loss: 0.0049\n",
      "Epoch 22/100\n",
      "90/90 [==============================] - 5s 61ms/step - loss: 0.0224 - val_loss: 0.0070\n",
      "Epoch 23/100\n",
      "90/90 [==============================] - 6s 63ms/step - loss: 0.0229 - val_loss: 0.0053\n",
      "Epoch 24/100\n",
      "90/90 [==============================] - 6s 63ms/step - loss: 0.0227 - val_loss: 0.0145\n",
      "Epoch 25/100\n",
      "90/90 [==============================] - 6s 63ms/step - loss: 0.0214 - val_loss: 0.0046\n",
      "Epoch 26/100\n",
      "90/90 [==============================] - 6s 63ms/step - loss: 0.0228 - val_loss: 0.0073\n",
      "Epoch 27/100\n",
      "90/90 [==============================] - 6s 63ms/step - loss: 0.0234 - val_loss: 0.0071\n",
      "Epoch 28/100\n",
      "90/90 [==============================] - 6s 64ms/step - loss: 0.0227 - val_loss: 0.0042\n",
      "Epoch 29/100\n",
      "90/90 [==============================] - 6s 63ms/step - loss: 0.0212 - val_loss: 0.0037\n",
      "Epoch 30/100\n",
      "90/90 [==============================] - 6s 66ms/step - loss: 0.0211 - val_loss: 0.0038\n",
      "Epoch 31/100\n",
      "90/90 [==============================] - 6s 63ms/step - loss: 0.0217 - val_loss: 0.0120\n",
      "Epoch 32/100\n",
      "90/90 [==============================] - 6s 61ms/step - loss: 0.0206 - val_loss: 0.0052\n",
      "Epoch 33/100\n",
      "90/90 [==============================] - 5s 60ms/step - loss: 0.0202 - val_loss: 0.0037\n",
      "Epoch 34/100\n",
      "90/90 [==============================] - 5s 60ms/step - loss: 0.0198 - val_loss: 0.0061\n",
      "Epoch 35/100\n",
      "90/90 [==============================] - 5s 61ms/step - loss: 0.0207 - val_loss: 0.0090\n",
      "Epoch 36/100\n",
      "90/90 [==============================] - 6s 62ms/step - loss: 0.0202 - val_loss: 0.0031\n",
      "Epoch 37/100\n",
      "90/90 [==============================] - 5s 60ms/step - loss: 0.0193 - val_loss: 0.0035\n",
      "Epoch 38/100\n",
      "90/90 [==============================] - 5s 61ms/step - loss: 0.0207 - val_loss: 0.0137\n",
      "Epoch 39/100\n",
      "90/90 [==============================] - 5s 60ms/step - loss: 0.0212 - val_loss: 0.0093\n",
      "Epoch 40/100\n",
      "90/90 [==============================] - 5s 61ms/step - loss: 0.0201 - val_loss: 0.0031\n",
      "Epoch 41/100\n",
      "90/90 [==============================] - 5s 60ms/step - loss: 0.0188 - val_loss: 0.0239\n",
      "Epoch 42/100\n",
      "90/90 [==============================] - 5s 60ms/step - loss: 0.0186 - val_loss: 0.0066\n",
      "Epoch 43/100\n",
      "90/90 [==============================] - 5s 60ms/step - loss: 0.0194 - val_loss: 0.0035\n",
      "Epoch 44/100\n",
      "90/90 [==============================] - 5s 61ms/step - loss: 0.0213 - val_loss: 0.0031\n",
      "Epoch 45/100\n",
      "90/90 [==============================] - 6s 63ms/step - loss: 0.0195 - val_loss: 0.0053\n",
      "Epoch 46/100\n",
      "90/90 [==============================] - 5s 61ms/step - loss: 0.0186 - val_loss: 0.0038\n",
      "Epoch 47/100\n",
      "90/90 [==============================] - 6s 63ms/step - loss: 0.0190 - val_loss: 0.0039\n",
      "Epoch 48/100\n",
      "90/90 [==============================] - 6s 63ms/step - loss: 0.0192 - val_loss: 0.0088\n",
      "Epoch 49/100\n",
      "90/90 [==============================] - 6s 64ms/step - loss: 0.0171 - val_loss: 0.0046\n",
      "Epoch 50/100\n",
      "90/90 [==============================] - 6s 64ms/step - loss: 0.0186 - val_loss: 0.0030\n",
      "Epoch 51/100\n",
      "90/90 [==============================] - 6s 65ms/step - loss: 0.0182 - val_loss: 0.0029\n",
      "Epoch 52/100\n",
      "90/90 [==============================] - 6s 64ms/step - loss: 0.0184 - val_loss: 0.0069\n",
      "Epoch 53/100\n",
      "90/90 [==============================] - 6s 64ms/step - loss: 0.0182 - val_loss: 0.0066\n",
      "Epoch 54/100\n",
      "90/90 [==============================] - 5s 61ms/step - loss: 0.0192 - val_loss: 0.0141\n",
      "Epoch 55/100\n",
      "90/90 [==============================] - 6s 64ms/step - loss: 0.0178 - val_loss: 0.0038\n",
      "Epoch 56/100\n",
      "90/90 [==============================] - 6s 62ms/step - loss: 0.0176 - val_loss: 0.0032\n",
      "Epoch 57/100\n",
      "90/90 [==============================] - 6s 62ms/step - loss: 0.0166 - val_loss: 0.0028\n",
      "Epoch 58/100\n",
      "90/90 [==============================] - 6s 63ms/step - loss: 0.0181 - val_loss: 0.0044\n",
      "Epoch 59/100\n",
      "90/90 [==============================] - 6s 62ms/step - loss: 0.0175 - val_loss: 0.0028\n",
      "Epoch 60/100\n",
      "90/90 [==============================] - 6s 61ms/step - loss: 0.0174 - val_loss: 0.0045\n",
      "Epoch 61/100\n",
      "90/90 [==============================] - 6s 62ms/step - loss: 0.0163 - val_loss: 0.0058\n",
      "Epoch 62/100\n",
      "90/90 [==============================] - 6s 64ms/step - loss: 0.0184 - val_loss: 0.0030\n",
      "Epoch 63/100\n",
      "90/90 [==============================] - 6s 67ms/step - loss: 0.0173 - val_loss: 0.0028\n",
      "Epoch 64/100\n",
      "90/90 [==============================] - 6s 63ms/step - loss: 0.0169 - val_loss: 0.0029\n",
      "Epoch 65/100\n",
      "90/90 [==============================] - 6s 61ms/step - loss: 0.0167 - val_loss: 0.0036\n",
      "Epoch 66/100\n",
      "90/90 [==============================] - 5s 60ms/step - loss: 0.0182 - val_loss: 0.0095\n",
      "Epoch 67/100\n",
      "90/90 [==============================] - 5s 61ms/step - loss: 0.0178 - val_loss: 0.0063\n",
      "Epoch 68/100\n",
      "90/90 [==============================] - 6s 62ms/step - loss: 0.0180 - val_loss: 0.0081\n",
      "Epoch 69/100\n",
      "90/90 [==============================] - 6s 63ms/step - loss: 0.0177 - val_loss: 0.0027\n",
      "Epoch 70/100\n",
      "90/90 [==============================] - 6s 64ms/step - loss: 0.0178 - val_loss: 0.0031\n",
      "Epoch 71/100\n",
      "90/90 [==============================] - 6s 63ms/step - loss: 0.0166 - val_loss: 0.0077\n",
      "Epoch 72/100\n",
      "90/90 [==============================] - 6s 65ms/step - loss: 0.0183 - val_loss: 0.0047\n",
      "Epoch 73/100\n",
      "90/90 [==============================] - 6s 67ms/step - loss: 0.0185 - val_loss: 0.0052\n",
      "Epoch 74/100\n",
      "90/90 [==============================] - 6s 68ms/step - loss: 0.0172 - val_loss: 0.0051\n",
      "Epoch 75/100\n",
      "90/90 [==============================] - 6s 69ms/step - loss: 0.0169 - val_loss: 0.0036\n",
      "Epoch 76/100\n",
      "90/90 [==============================] - 6s 68ms/step - loss: 0.0160 - val_loss: 0.0028\n",
      "Epoch 77/100\n",
      "90/90 [==============================] - 6s 65ms/step - loss: 0.0166 - val_loss: 0.0040\n",
      "Epoch 78/100\n",
      "90/90 [==============================] - 6s 68ms/step - loss: 0.0175 - val_loss: 0.0045\n",
      "Epoch 79/100\n",
      "90/90 [==============================] - 6s 65ms/step - loss: 0.0176 - val_loss: 0.0040\n",
      "Epoch 80/100\n",
      "90/90 [==============================] - 6s 65ms/step - loss: 0.0176 - val_loss: 0.0044\n",
      "Epoch 81/100\n",
      "90/90 [==============================] - 6s 62ms/step - loss: 0.0170 - val_loss: 0.0043\n",
      "Epoch 82/100\n",
      "90/90 [==============================] - 6s 62ms/step - loss: 0.0162 - val_loss: 0.0094\n",
      "Epoch 83/100\n",
      "90/90 [==============================] - 5s 58ms/step - loss: 0.0169 - val_loss: 0.0068\n",
      "Epoch 84/100\n",
      "90/90 [==============================] - 6s 63ms/step - loss: 0.0185 - val_loss: 0.0029\n",
      "Epoch 85/100\n",
      "90/90 [==============================] - 6s 65ms/step - loss: 0.0161 - val_loss: 0.0028\n",
      "Epoch 86/100\n",
      "90/90 [==============================] - 6s 61ms/step - loss: 0.0183 - val_loss: 0.0085\n",
      "Epoch 87/100\n",
      "90/90 [==============================] - 6s 63ms/step - loss: 0.0166 - val_loss: 0.0062\n",
      "Epoch 88/100\n",
      "90/90 [==============================] - 6s 64ms/step - loss: 0.0173 - val_loss: 0.0112\n",
      "Epoch 89/100\n",
      "90/90 [==============================] - 5s 60ms/step - loss: 0.0171 - val_loss: 0.0032\n",
      "Epoch 90/100\n",
      "90/90 [==============================] - 6s 65ms/step - loss: 0.0184 - val_loss: 0.0048\n",
      "Epoch 91/100\n",
      "90/90 [==============================] - 5s 61ms/step - loss: 0.0176 - val_loss: 0.0043\n",
      "Epoch 92/100\n",
      "90/90 [==============================] - 6s 64ms/step - loss: 0.0174 - val_loss: 0.0074\n",
      "Epoch 93/100\n",
      "90/90 [==============================] - 6s 63ms/step - loss: 0.0170 - val_loss: 0.0052\n",
      "Epoch 94/100\n",
      "90/90 [==============================] - 6s 65ms/step - loss: 0.0178 - val_loss: 0.0036\n",
      "Epoch 95/100\n",
      "90/90 [==============================] - 6s 62ms/step - loss: 0.0176 - val_loss: 0.0057\n",
      "Epoch 96/100\n",
      "90/90 [==============================] - 6s 67ms/step - loss: 0.0162 - val_loss: 0.0038\n",
      "Epoch 97/100\n",
      "90/90 [==============================] - 6s 69ms/step - loss: 0.0172 - val_loss: 0.0034\n",
      "Epoch 98/100\n",
      "90/90 [==============================] - 6s 67ms/step - loss: 0.0160 - val_loss: 0.0031\n",
      "Epoch 99/100\n",
      "90/90 [==============================] - 6s 69ms/step - loss: 0.0169 - val_loss: 0.0064\n",
      "Epoch 100/100\n",
      "90/90 [==============================] - 6s 70ms/step - loss: 0.0170 - val_loss: 0.0027\n"
     ]
    },
    {
     "data": {
      "text/plain": [
       "<matplotlib.legend.Legend at 0x1945a166cc8>"
      ]
     },
     "execution_count": 23,
     "metadata": {},
     "output_type": "execute_result"
    },
    {
     "data": {
      "image/png": "[encoded data removed]",
      "text/plain": [
       "<Figure size 640x480 with 1 Axes>"
      ]
     },
     "metadata": {},
     "output_type": "display_data"
    }
   ],
   "source": [
    "history = model_close.fit(trainX, trainY_close, epochs=100, batch_size=32, validation_split=0.1, verbose=1)\n",
    "\n",
    "plt.plot(history.history['loss'], label='Training loss')\n",
    "plt.plot(history.history['val_loss'], label='Validation loss')\n",
    "plt.legend()"
   ]
  },
  {
   "cell_type": "markdown",
   "id": "252a00b8",
   "metadata": {},
   "source": [
    "For Adjusted Close"
   ]
  },
  {
   "cell_type": "code",
   "execution_count": 24,
   "id": "75b13924",
   "metadata": {},
   "outputs": [],
   "source": [
    "model_adjClose = Sequential()\n",
    "#first layer\n",
    "model_adjClose.add(LSTM(units=64, activation='tanh', input_shape=(trainX.shape[1], trainX.shape[2]), return_sequences=True))\n",
    "model_adjClose.add(Dropout(0.2))\n",
    "\n",
    "#second layer\n",
    "model_adjClose.add(LSTM(units=60,activation='tanh',return_sequences=True))\n",
    "model_adjClose.add(Dropout(0.3))\n",
    "\n",
    "\n",
    "#third layer\n",
    "model_adjClose.add(LSTM(units=80,activation='tanh',return_sequences=True))\n",
    "model_adjClose.add(Dropout(0.4))\n",
    "\n",
    "\n",
    "\n",
    "#fourth layer\n",
    "model_adjClose.add(LSTM(units=100,activation='tanh'))\n",
    "model_adjClose.add(Dropout(0.5))\n",
    "\n",
    "\n",
    "#last layer\n",
    "model_adjClose.add(Dense(units=1))"
   ]
  },
  {
   "cell_type": "code",
   "execution_count": 25,
   "id": "8ab04ce0",
   "metadata": {},
   "outputs": [
    {
     "name": "stdout",
     "output_type": "stream",
     "text": [
      "Model: \"sequential_4\"\n",
      "_________________________________________________________________\n",
      " Layer (type)                Output Shape              Param #   \n",
      "=================================================================\n",
      " lstm_16 (LSTM)              (None, 30, 64)            17920     \n",
      "                                                                 \n",
      " dropout_16 (Dropout)        (None, 30, 64)            0         \n",
      "                                                                 \n",
      " lstm_17 (LSTM)              (None, 30, 60)            30000     \n",
      "                                                                 \n",
      " dropout_17 (Dropout)        (None, 30, 60)            0         \n",
      "                                                                 \n",
      " lstm_18 (LSTM)              (None, 30, 80)            45120     \n",
      "                                                                 \n",
      " dropout_18 (Dropout)        (None, 30, 80)            0         \n",
      "                                                                 \n",
      " lstm_19 (LSTM)              (None, 100)               72400     \n",
      "                                                                 \n",
      " dropout_19 (Dropout)        (None, 100)               0         \n",
      "                                                                 \n",
      " dense_4 (Dense)             (None, 1)                 101       \n",
      "                                                                 \n",
      "=================================================================\n",
      "Total params: 165,541\n",
      "Trainable params: 165,541\n",
      "Non-trainable params: 0\n",
      "_________________________________________________________________\n"
     ]
    }
   ],
   "source": [
    "model_adjClose.compile(optimizer='adam', loss='mse')\n",
    "model_adjClose.summary()"
   ]
  },
  {
   "cell_type": "code",
   "execution_count": 26,
   "id": "0a77b7ec",
   "metadata": {},
   "outputs": [
    {
     "name": "stdout",
     "output_type": "stream",
     "text": [
      "Epoch 1/100\n",
      "90/90 [==============================] - 14s 99ms/step - loss: 0.0945 - val_loss: 0.0312\n",
      "Epoch 2/100\n",
      "90/90 [==============================] - 5s 60ms/step - loss: 0.0464 - val_loss: 0.0224\n",
      "Epoch 3/100\n",
      "90/90 [==============================] - 5s 60ms/step - loss: 0.0365 - val_loss: 0.0160\n",
      "Epoch 4/100\n",
      "90/90 [==============================] - 5s 61ms/step - loss: 0.0340 - val_loss: 0.0523\n",
      "Epoch 5/100\n",
      "90/90 [==============================] - 6s 62ms/step - loss: 0.0317 - val_loss: 0.0116\n",
      "Epoch 6/100\n",
      "90/90 [==============================] - 5s 59ms/step - loss: 0.0309 - val_loss: 0.0262\n",
      "Epoch 7/100\n",
      "90/90 [==============================] - 6s 61ms/step - loss: 0.0270 - val_loss: 0.0109\n",
      "Epoch 8/100\n",
      "90/90 [==============================] - 6s 63ms/step - loss: 0.0284 - val_loss: 0.0085\n",
      "Epoch 9/100\n",
      "90/90 [==============================] - 6s 64ms/step - loss: 0.0258 - val_loss: 0.0076\n",
      "Epoch 10/100\n",
      "90/90 [==============================] - 6s 62ms/step - loss: 0.0262 - val_loss: 0.0075\n",
      "Epoch 11/100\n",
      "90/90 [==============================] - 6s 62ms/step - loss: 0.0252 - val_loss: 0.0091\n",
      "Epoch 12/100\n",
      "90/90 [==============================] - 6s 65ms/step - loss: 0.0254 - val_loss: 0.0093\n",
      "Epoch 13/100\n",
      "90/90 [==============================] - 5s 61ms/step - loss: 0.0240 - val_loss: 0.0088\n",
      "Epoch 14/100\n",
      "90/90 [==============================] - 5s 61ms/step - loss: 0.0221 - val_loss: 0.0061\n",
      "Epoch 15/100\n",
      "90/90 [==============================] - 6s 61ms/step - loss: 0.0219 - val_loss: 0.0070\n",
      "Epoch 16/100\n",
      "90/90 [==============================] - 6s 63ms/step - loss: 0.0241 - val_loss: 0.0086\n",
      "Epoch 17/100\n",
      "90/90 [==============================] - 5s 60ms/step - loss: 0.0227 - val_loss: 0.0082\n",
      "Epoch 18/100\n",
      "90/90 [==============================] - 6s 62ms/step - loss: 0.0209 - val_loss: 0.0142\n",
      "Epoch 19/100\n",
      "90/90 [==============================] - 6s 63ms/step - loss: 0.0209 - val_loss: 0.0146\n",
      "Epoch 20/100\n",
      "90/90 [==============================] - 6s 64ms/step - loss: 0.0228 - val_loss: 0.0054\n",
      "Epoch 21/100\n",
      "90/90 [==============================] - 6s 63ms/step - loss: 0.0205 - val_loss: 0.0061\n",
      "Epoch 22/100\n",
      "90/90 [==============================] - 6s 64ms/step - loss: 0.0191 - val_loss: 0.0104\n",
      "Epoch 23/100\n",
      "90/90 [==============================] - 6s 63ms/step - loss: 0.0201 - val_loss: 0.0048\n",
      "Epoch 24/100\n",
      "90/90 [==============================] - 6s 62ms/step - loss: 0.0200 - val_loss: 0.0057\n",
      "Epoch 25/100\n",
      "90/90 [==============================] - 6s 64ms/step - loss: 0.0202 - val_loss: 0.0093\n",
      "Epoch 26/100\n",
      "90/90 [==============================] - 6s 63ms/step - loss: 0.0212 - val_loss: 0.0049\n",
      "Epoch 27/100\n",
      "90/90 [==============================] - 6s 63ms/step - loss: 0.0206 - val_loss: 0.0062\n",
      "Epoch 28/100\n",
      "90/90 [==============================] - 5s 61ms/step - loss: 0.0206 - val_loss: 0.0146\n",
      "Epoch 29/100\n",
      "90/90 [==============================] - 6s 62ms/step - loss: 0.0195 - val_loss: 0.0063\n",
      "Epoch 30/100\n",
      "90/90 [==============================] - 8s 90ms/step - loss: 0.0191 - val_loss: 0.0055\n",
      "Epoch 31/100\n",
      "90/90 [==============================] - 5s 61ms/step - loss: 0.0186 - val_loss: 0.0054\n",
      "Epoch 32/100\n",
      "90/90 [==============================] - 5s 60ms/step - loss: 0.0201 - val_loss: 0.0079\n",
      "Epoch 33/100\n",
      "90/90 [==============================] - 6s 61ms/step - loss: 0.0180 - val_loss: 0.0063\n",
      "Epoch 34/100\n",
      "90/90 [==============================] - 5s 61ms/step - loss: 0.0193 - val_loss: 0.0136\n",
      "Epoch 35/100\n",
      "90/90 [==============================] - 6s 62ms/step - loss: 0.0201 - val_loss: 0.0055\n",
      "Epoch 36/100\n",
      "90/90 [==============================] - 6s 63ms/step - loss: 0.0190 - val_loss: 0.0290\n",
      "Epoch 37/100\n",
      "90/90 [==============================] - 6s 63ms/step - loss: 0.0183 - val_loss: 0.0044\n",
      "Epoch 38/100\n",
      "90/90 [==============================] - 6s 63ms/step - loss: 0.0180 - val_loss: 0.0090\n",
      "Epoch 39/100\n",
      "90/90 [==============================] - 6s 63ms/step - loss: 0.0190 - val_loss: 0.0052\n",
      "Epoch 40/100\n",
      "90/90 [==============================] - 6s 62ms/step - loss: 0.0183 - val_loss: 0.0134\n",
      "Epoch 41/100\n",
      "90/90 [==============================] - 6s 63ms/step - loss: 0.0177 - val_loss: 0.0059\n",
      "Epoch 42/100\n",
      "90/90 [==============================] - 6s 65ms/step - loss: 0.0187 - val_loss: 0.0058\n",
      "Epoch 43/100\n",
      "90/90 [==============================] - 6s 65ms/step - loss: 0.0174 - val_loss: 0.0040\n",
      "Epoch 44/100\n",
      "90/90 [==============================] - 6s 64ms/step - loss: 0.0180 - val_loss: 0.0048\n",
      "Epoch 45/100\n",
      "90/90 [==============================] - 6s 65ms/step - loss: 0.0182 - val_loss: 0.0033\n",
      "Epoch 46/100\n",
      "90/90 [==============================] - 6s 63ms/step - loss: 0.0168 - val_loss: 0.0048\n",
      "Epoch 47/100\n",
      "90/90 [==============================] - 6s 64ms/step - loss: 0.0166 - val_loss: 0.0048\n",
      "Epoch 48/100\n",
      "90/90 [==============================] - 6s 64ms/step - loss: 0.0169 - val_loss: 0.0080\n",
      "Epoch 49/100\n",
      "90/90 [==============================] - 6s 63ms/step - loss: 0.0172 - val_loss: 0.0043\n",
      "Epoch 50/100\n",
      "90/90 [==============================] - 6s 65ms/step - loss: 0.0173 - val_loss: 0.0058\n",
      "Epoch 51/100\n",
      "90/90 [==============================] - 6s 66ms/step - loss: 0.0170 - val_loss: 0.0055\n",
      "Epoch 52/100\n",
      "90/90 [==============================] - 6s 66ms/step - loss: 0.0167 - val_loss: 0.0040\n",
      "Epoch 53/100\n",
      "90/90 [==============================] - 6s 65ms/step - loss: 0.0163 - val_loss: 0.0070\n",
      "Epoch 54/100\n",
      "90/90 [==============================] - 6s 66ms/step - loss: 0.0167 - val_loss: 0.0073\n",
      "Epoch 55/100\n",
      "90/90 [==============================] - 6s 67ms/step - loss: 0.0168 - val_loss: 0.0053\n",
      "Epoch 56/100\n",
      "90/90 [==============================] - 6s 66ms/step - loss: 0.0170 - val_loss: 0.0042\n",
      "Epoch 57/100\n",
      "90/90 [==============================] - 14s 154ms/step - loss: 0.0161 - val_loss: 0.0056\n",
      "Epoch 58/100\n",
      "90/90 [==============================] - 14s 154ms/step - loss: 0.0183 - val_loss: 0.0103\n",
      "Epoch 59/100\n",
      "90/90 [==============================] - 14s 152ms/step - loss: 0.0172 - val_loss: 0.0039\n",
      "Epoch 60/100\n",
      "90/90 [==============================] - 14s 154ms/step - loss: 0.0168 - val_loss: 0.0095\n",
      "Epoch 61/100\n",
      "90/90 [==============================] - 14s 154ms/step - loss: 0.0162 - val_loss: 0.0127\n",
      "Epoch 62/100\n",
      "90/90 [==============================] - 14s 152ms/step - loss: 0.0159 - val_loss: 0.0058\n",
      "Epoch 63/100\n",
      "90/90 [==============================] - 14s 155ms/step - loss: 0.0186 - val_loss: 0.0029\n",
      "Epoch 64/100\n",
      "90/90 [==============================] - 14s 155ms/step - loss: 0.0158 - val_loss: 0.0094\n",
      "Epoch 65/100\n",
      "90/90 [==============================] - 14s 153ms/step - loss: 0.0162 - val_loss: 0.0091\n",
      "Epoch 66/100\n",
      "90/90 [==============================] - 14s 156ms/step - loss: 0.0167 - val_loss: 0.0096\n",
      "Epoch 67/100\n",
      "90/90 [==============================] - 14s 153ms/step - loss: 0.0176 - val_loss: 0.0032\n",
      "Epoch 68/100\n",
      "90/90 [==============================] - 14s 153ms/step - loss: 0.0180 - val_loss: 0.0094\n",
      "Epoch 69/100\n",
      "90/90 [==============================] - 14s 152ms/step - loss: 0.0166 - val_loss: 0.0071\n",
      "Epoch 70/100\n",
      "90/90 [==============================] - 14s 154ms/step - loss: 0.0168 - val_loss: 0.0049\n",
      "Epoch 71/100\n",
      "90/90 [==============================] - 14s 157ms/step - loss: 0.0168 - val_loss: 0.0114\n",
      "Epoch 72/100\n",
      "90/90 [==============================] - 14s 153ms/step - loss: 0.0179 - val_loss: 0.0073\n",
      "Epoch 73/100\n",
      "90/90 [==============================] - 14s 155ms/step - loss: 0.0163 - val_loss: 0.0068\n",
      "Epoch 74/100\n",
      "90/90 [==============================] - 14s 153ms/step - loss: 0.0148 - val_loss: 0.0121\n",
      "Epoch 75/100\n",
      "90/90 [==============================] - 14s 155ms/step - loss: 0.0171 - val_loss: 0.0098\n",
      "Epoch 76/100\n",
      "90/90 [==============================] - 9s 96ms/step - loss: 0.0170 - val_loss: 0.0060\n",
      "Epoch 77/100\n",
      "90/90 [==============================] - 5s 57ms/step - loss: 0.0151 - val_loss: 0.0101\n",
      "Epoch 78/100\n",
      "90/90 [==============================] - 6s 61ms/step - loss: 0.0155 - val_loss: 0.0113\n",
      "Epoch 79/100\n",
      "90/90 [==============================] - 6s 62ms/step - loss: 0.0156 - val_loss: 0.0099\n",
      "Epoch 80/100\n",
      "90/90 [==============================] - 1562s 18s/step - loss: 0.0160 - val_loss: 0.0053\n",
      "Epoch 81/100\n",
      "90/90 [==============================] - 4s 45ms/step - loss: 0.0159 - val_loss: 0.0037\n",
      "Epoch 82/100\n",
      "90/90 [==============================] - 4s 43ms/step - loss: 0.0159 - val_loss: 0.0093\n",
      "Epoch 83/100\n",
      "90/90 [==============================] - 4s 43ms/step - loss: 0.0155 - val_loss: 0.0033\n",
      "Epoch 84/100\n",
      "90/90 [==============================] - 4s 47ms/step - loss: 0.0160 - val_loss: 0.0066\n",
      "Epoch 85/100\n",
      "90/90 [==============================] - 4s 45ms/step - loss: 0.0154 - val_loss: 0.0151\n",
      "Epoch 86/100\n",
      "90/90 [==============================] - 4s 47ms/step - loss: 0.0157 - val_loss: 0.0181\n",
      "Epoch 87/100\n",
      "90/90 [==============================] - 4s 48ms/step - loss: 0.0160 - val_loss: 0.0095\n",
      "Epoch 88/100\n",
      "90/90 [==============================] - 5s 60ms/step - loss: 0.0148 - val_loss: 0.0029\n",
      "Epoch 89/100\n",
      "90/90 [==============================] - 6s 63ms/step - loss: 0.0153 - val_loss: 0.0085\n",
      "Epoch 90/100\n",
      "90/90 [==============================] - 5s 58ms/step - loss: 0.0150 - val_loss: 0.0100\n",
      "Epoch 91/100\n",
      "90/90 [==============================] - 5s 57ms/step - loss: 0.0156 - val_loss: 0.0032\n",
      "Epoch 92/100\n",
      "90/90 [==============================] - 5s 60ms/step - loss: 0.0149 - val_loss: 0.0028\n",
      "Epoch 93/100\n",
      "90/90 [==============================] - 7s 82ms/step - loss: 0.0152 - val_loss: 0.0279\n",
      "Epoch 94/100\n",
      "90/90 [==============================] - 7s 76ms/step - loss: 0.0156 - val_loss: 0.0075\n",
      "Epoch 95/100\n",
      "90/90 [==============================] - 7s 74ms/step - loss: 0.0162 - val_loss: 0.0053\n",
      "Epoch 96/100\n",
      "90/90 [==============================] - 6s 72ms/step - loss: 0.0144 - val_loss: 0.0028\n",
      "Epoch 97/100\n",
      "90/90 [==============================] - 6s 72ms/step - loss: 0.0172 - val_loss: 0.0029\n",
      "Epoch 98/100\n",
      "90/90 [==============================] - 7s 73ms/step - loss: 0.0153 - val_loss: 0.0027\n",
      "Epoch 99/100\n",
      "90/90 [==============================] - 6s 71ms/step - loss: 0.0164 - val_loss: 0.0041\n",
      "Epoch 100/100\n",
      "90/90 [==============================] - 7s 74ms/step - loss: 0.0145 - val_loss: 0.0039\n"
     ]
    },
    {
     "data": {
      "text/plain": [
       "<matplotlib.legend.Legend at 0x1946876d2c8>"
      ]
     },
     "execution_count": 26,
     "metadata": {},
     "output_type": "execute_result"
    },
    {
     "data": {
      "image/png": "[encoded data removed]",
      "text/plain": [
       "<Figure size 640x480 with 1 Axes>"
      ]
     },
     "metadata": {},
     "output_type": "display_data"
    }
   ],
   "source": [
    "history = model_adjClose.fit(trainX, trainY_adjClose, epochs=100, batch_size=32, validation_split=0.1, verbose=1)\n",
    "\n",
    "plt.plot(history.history['loss'], label='Training loss')\n",
    "plt.plot(history.history['val_loss'], label='Validation loss')\n",
    "plt.legend()"
   ]
  },
  {
   "cell_type": "markdown",
   "id": "a7cb1a23",
   "metadata": {},
   "source": [
    "# Testing"
   ]
  },
  {
   "cell_type": "code",
   "execution_count": 27,
   "id": "8944b662",
   "metadata": {},
   "outputs": [
    {
     "data": {
      "text/html": [
       "<div>\n",
       "<style scoped>\n",
       "    .dataframe tbody tr th:only-of-type {\n",
       "        vertical-align: middle;\n",
       "    }\n",
       "\n",
       "    .dataframe tbody tr th {\n",
       "        vertical-align: top;\n",
       "    }\n",
       "\n",
       "    .dataframe thead th {\n",
       "        text-align: right;\n",
       "    }\n",
       "</style>\n",
       "<table border=\"1\" class=\"dataframe\">\n",
       "  <thead>\n",
       "    <tr style=\"text-align: right;\">\n",
       "      <th></th>\n",
       "      <th>Open</th>\n",
       "      <th>High</th>\n",
       "      <th>Low</th>\n",
       "      <th>Close</th>\n",
       "      <th>Adj Close</th>\n",
       "    </tr>\n",
       "  </thead>\n",
       "  <tbody>\n",
       "    <tr>\n",
       "      <th>0</th>\n",
       "      <td>233.625061</td>\n",
       "      <td>240.000061</td>\n",
       "      <td>232.087555</td>\n",
       "      <td>237.412552</td>\n",
       "      <td>232.183533</td>\n",
       "    </tr>\n",
       "    <tr>\n",
       "      <th>1</th>\n",
       "      <td>236.887558</td>\n",
       "      <td>243.000061</td>\n",
       "      <td>235.837555</td>\n",
       "      <td>239.025055</td>\n",
       "      <td>233.760529</td>\n",
       "    </tr>\n",
       "    <tr>\n",
       "      <th>2</th>\n",
       "      <td>240.300064</td>\n",
       "      <td>240.300064</td>\n",
       "      <td>231.562561</td>\n",
       "      <td>232.462555</td>\n",
       "      <td>227.342545</td>\n",
       "    </tr>\n",
       "    <tr>\n",
       "      <th>3</th>\n",
       "      <td>232.575058</td>\n",
       "      <td>234.750061</td>\n",
       "      <td>230.587555</td>\n",
       "      <td>233.737564</td>\n",
       "      <td>228.589493</td>\n",
       "    </tr>\n",
       "    <tr>\n",
       "      <th>4</th>\n",
       "      <td>234.750061</td>\n",
       "      <td>235.425064</td>\n",
       "      <td>230.775055</td>\n",
       "      <td>232.162552</td>\n",
       "      <td>227.049149</td>\n",
       "    </tr>\n",
       "  </tbody>\n",
       "</table>\n",
       "</div>"
      ],
      "text/plain": [
       "         Open        High         Low       Close   Adj Close\n",
       "0  233.625061  240.000061  232.087555  237.412552  232.183533\n",
       "1  236.887558  243.000061  235.837555  239.025055  233.760529\n",
       "2  240.300064  240.300064  231.562561  232.462555  227.342545\n",
       "3  232.575058  234.750061  230.587555  233.737564  228.589493\n",
       "4  234.750061  235.425064  230.775055  232.162552  227.049149"
      ]
     },
     "execution_count": 27,
     "metadata": {},
     "output_type": "execute_result"
    }
   ],
   "source": [
    "df_for_testing.head()"
   ]
  },
  {
   "cell_type": "code",
   "execution_count": 28,
   "id": "de8c33ab",
   "metadata": {},
   "outputs": [],
   "source": [
    "past_30_days=df_for_training.tail(30)"
   ]
  },
  {
   "cell_type": "code",
   "execution_count": 29,
   "id": "4ccef3f9",
   "metadata": {},
   "outputs": [
    {
     "data": {
      "text/html": [
       "<div>\n",
       "<style scoped>\n",
       "    .dataframe tbody tr th:only-of-type {\n",
       "        vertical-align: middle;\n",
       "    }\n",
       "\n",
       "    .dataframe tbody tr th {\n",
       "        vertical-align: top;\n",
       "    }\n",
       "\n",
       "    .dataframe thead th {\n",
       "        text-align: right;\n",
       "    }\n",
       "</style>\n",
       "<table border=\"1\" class=\"dataframe\">\n",
       "  <thead>\n",
       "    <tr style=\"text-align: right;\">\n",
       "      <th></th>\n",
       "      <th>Open</th>\n",
       "      <th>High</th>\n",
       "      <th>Low</th>\n",
       "      <th>Close</th>\n",
       "      <th>Adj Close</th>\n",
       "    </tr>\n",
       "  </thead>\n",
       "  <tbody>\n",
       "    <tr>\n",
       "      <th>3184</th>\n",
       "      <td>223.650055</td>\n",
       "      <td>224.137558</td>\n",
       "      <td>220.875061</td>\n",
       "      <td>221.362549</td>\n",
       "      <td>216.487030</td>\n",
       "    </tr>\n",
       "    <tr>\n",
       "      <th>3185</th>\n",
       "      <td>221.325058</td>\n",
       "      <td>222.675049</td>\n",
       "      <td>219.300049</td>\n",
       "      <td>220.762558</td>\n",
       "      <td>215.900269</td>\n",
       "    </tr>\n",
       "    <tr>\n",
       "      <th>3186</th>\n",
       "      <td>222.862549</td>\n",
       "      <td>223.500061</td>\n",
       "      <td>219.862549</td>\n",
       "      <td>220.500061</td>\n",
       "      <td>215.643555</td>\n",
       "    </tr>\n",
       "    <tr>\n",
       "      <th>3187</th>\n",
       "      <td>221.775055</td>\n",
       "      <td>221.775055</td>\n",
       "      <td>219.750061</td>\n",
       "      <td>220.725052</td>\n",
       "      <td>215.863586</td>\n",
       "    </tr>\n",
       "    <tr>\n",
       "      <th>3188</th>\n",
       "      <td>221.400055</td>\n",
       "      <td>221.400055</td>\n",
       "      <td>219.825058</td>\n",
       "      <td>220.162552</td>\n",
       "      <td>215.313461</td>\n",
       "    </tr>\n",
       "    <tr>\n",
       "      <th>3189</th>\n",
       "      <td>220.800049</td>\n",
       "      <td>220.800049</td>\n",
       "      <td>218.250061</td>\n",
       "      <td>219.525055</td>\n",
       "      <td>214.690033</td>\n",
       "    </tr>\n",
       "    <tr>\n",
       "      <th>3190</th>\n",
       "      <td>218.437561</td>\n",
       "      <td>221.512558</td>\n",
       "      <td>218.250061</td>\n",
       "      <td>221.100052</td>\n",
       "      <td>216.230316</td>\n",
       "    </tr>\n",
       "    <tr>\n",
       "      <th>3191</th>\n",
       "      <td>221.250061</td>\n",
       "      <td>221.925049</td>\n",
       "      <td>219.975052</td>\n",
       "      <td>221.137558</td>\n",
       "      <td>216.266998</td>\n",
       "    </tr>\n",
       "    <tr>\n",
       "      <th>3192</th>\n",
       "      <td>221.250061</td>\n",
       "      <td>224.400055</td>\n",
       "      <td>220.125061</td>\n",
       "      <td>223.987549</td>\n",
       "      <td>219.054199</td>\n",
       "    </tr>\n",
       "    <tr>\n",
       "      <th>3193</th>\n",
       "      <td>224.512558</td>\n",
       "      <td>225.337555</td>\n",
       "      <td>217.012558</td>\n",
       "      <td>218.925049</td>\n",
       "      <td>214.103210</td>\n",
       "    </tr>\n",
       "    <tr>\n",
       "      <th>3194</th>\n",
       "      <td>219.000061</td>\n",
       "      <td>220.387558</td>\n",
       "      <td>216.037552</td>\n",
       "      <td>217.050049</td>\n",
       "      <td>212.269516</td>\n",
       "    </tr>\n",
       "    <tr>\n",
       "      <th>3195</th>\n",
       "      <td>215.212555</td>\n",
       "      <td>218.325058</td>\n",
       "      <td>212.062546</td>\n",
       "      <td>217.462555</td>\n",
       "      <td>212.672928</td>\n",
       "    </tr>\n",
       "    <tr>\n",
       "      <th>3196</th>\n",
       "      <td>216.450058</td>\n",
       "      <td>216.450058</td>\n",
       "      <td>212.025055</td>\n",
       "      <td>212.587555</td>\n",
       "      <td>207.905334</td>\n",
       "    </tr>\n",
       "    <tr>\n",
       "      <th>3197</th>\n",
       "      <td>212.475052</td>\n",
       "      <td>213.337555</td>\n",
       "      <td>210.450058</td>\n",
       "      <td>211.875046</td>\n",
       "      <td>207.208496</td>\n",
       "    </tr>\n",
       "    <tr>\n",
       "      <th>3198</th>\n",
       "      <td>212.662552</td>\n",
       "      <td>213.562546</td>\n",
       "      <td>210.000046</td>\n",
       "      <td>210.900055</td>\n",
       "      <td>206.254974</td>\n",
       "    </tr>\n",
       "    <tr>\n",
       "      <th>3199</th>\n",
       "      <td>212.025055</td>\n",
       "      <td>214.500046</td>\n",
       "      <td>211.200058</td>\n",
       "      <td>212.175049</td>\n",
       "      <td>207.501907</td>\n",
       "    </tr>\n",
       "    <tr>\n",
       "      <th>3200</th>\n",
       "      <td>213.150055</td>\n",
       "      <td>217.500061</td>\n",
       "      <td>213.150055</td>\n",
       "      <td>217.050049</td>\n",
       "      <td>212.269516</td>\n",
       "    </tr>\n",
       "    <tr>\n",
       "      <th>3201</th>\n",
       "      <td>217.875061</td>\n",
       "      <td>218.512558</td>\n",
       "      <td>213.900055</td>\n",
       "      <td>215.850052</td>\n",
       "      <td>211.095963</td>\n",
       "    </tr>\n",
       "    <tr>\n",
       "      <th>3202</th>\n",
       "      <td>216.300049</td>\n",
       "      <td>217.087555</td>\n",
       "      <td>213.937546</td>\n",
       "      <td>215.400055</td>\n",
       "      <td>210.655853</td>\n",
       "    </tr>\n",
       "    <tr>\n",
       "      <th>3203</th>\n",
       "      <td>216.300049</td>\n",
       "      <td>217.875061</td>\n",
       "      <td>211.762558</td>\n",
       "      <td>216.450058</td>\n",
       "      <td>211.682724</td>\n",
       "    </tr>\n",
       "    <tr>\n",
       "      <th>3204</th>\n",
       "      <td>216.450058</td>\n",
       "      <td>218.062561</td>\n",
       "      <td>215.025055</td>\n",
       "      <td>217.275055</td>\n",
       "      <td>212.489563</td>\n",
       "    </tr>\n",
       "    <tr>\n",
       "      <th>3205</th>\n",
       "      <td>215.250046</td>\n",
       "      <td>223.312561</td>\n",
       "      <td>213.187546</td>\n",
       "      <td>221.850052</td>\n",
       "      <td>216.963791</td>\n",
       "    </tr>\n",
       "    <tr>\n",
       "      <th>3206</th>\n",
       "      <td>221.250061</td>\n",
       "      <td>222.712555</td>\n",
       "      <td>217.912552</td>\n",
       "      <td>219.300049</td>\n",
       "      <td>214.469955</td>\n",
       "    </tr>\n",
       "    <tr>\n",
       "      <th>3207</th>\n",
       "      <td>221.137558</td>\n",
       "      <td>223.875061</td>\n",
       "      <td>219.300049</td>\n",
       "      <td>222.375061</td>\n",
       "      <td>217.477249</td>\n",
       "    </tr>\n",
       "    <tr>\n",
       "      <th>3208</th>\n",
       "      <td>221.850052</td>\n",
       "      <td>224.250061</td>\n",
       "      <td>220.800049</td>\n",
       "      <td>223.312561</td>\n",
       "      <td>218.394073</td>\n",
       "    </tr>\n",
       "    <tr>\n",
       "      <th>3209</th>\n",
       "      <td>223.500061</td>\n",
       "      <td>227.550049</td>\n",
       "      <td>222.037552</td>\n",
       "      <td>226.200058</td>\n",
       "      <td>221.217987</td>\n",
       "    </tr>\n",
       "    <tr>\n",
       "      <th>3210</th>\n",
       "      <td>225.937561</td>\n",
       "      <td>230.250061</td>\n",
       "      <td>223.612549</td>\n",
       "      <td>227.175049</td>\n",
       "      <td>222.171494</td>\n",
       "    </tr>\n",
       "    <tr>\n",
       "      <th>3211</th>\n",
       "      <td>227.925049</td>\n",
       "      <td>231.000061</td>\n",
       "      <td>225.037552</td>\n",
       "      <td>229.950058</td>\n",
       "      <td>224.885406</td>\n",
       "    </tr>\n",
       "    <tr>\n",
       "      <th>3212</th>\n",
       "      <td>229.425064</td>\n",
       "      <td>232.425064</td>\n",
       "      <td>226.875061</td>\n",
       "      <td>231.000061</td>\n",
       "      <td>225.912262</td>\n",
       "    </tr>\n",
       "    <tr>\n",
       "      <th>3213</th>\n",
       "      <td>229.050064</td>\n",
       "      <td>237.300064</td>\n",
       "      <td>227.250061</td>\n",
       "      <td>235.687561</td>\n",
       "      <td>230.496521</td>\n",
       "    </tr>\n",
       "  </tbody>\n",
       "</table>\n",
       "</div>"
      ],
      "text/plain": [
       "            Open        High         Low       Close   Adj Close\n",
       "3184  223.650055  224.137558  220.875061  221.362549  216.487030\n",
       "3185  221.325058  222.675049  219.300049  220.762558  215.900269\n",
       "3186  222.862549  223.500061  219.862549  220.500061  215.643555\n",
       "3187  221.775055  221.775055  219.750061  220.725052  215.863586\n",
       "3188  221.400055  221.400055  219.825058  220.162552  215.313461\n",
       "3189  220.800049  220.800049  218.250061  219.525055  214.690033\n",
       "3190  218.437561  221.512558  218.250061  221.100052  216.230316\n",
       "3191  221.250061  221.925049  219.975052  221.137558  216.266998\n",
       "3192  221.250061  224.400055  220.125061  223.987549  219.054199\n",
       "3193  224.512558  225.337555  217.012558  218.925049  214.103210\n",
       "3194  219.000061  220.387558  216.037552  217.050049  212.269516\n",
       "3195  215.212555  218.325058  212.062546  217.462555  212.672928\n",
       "3196  216.450058  216.450058  212.025055  212.587555  207.905334\n",
       "3197  212.475052  213.337555  210.450058  211.875046  207.208496\n",
       "3198  212.662552  213.562546  210.000046  210.900055  206.254974\n",
       "3199  212.025055  214.500046  211.200058  212.175049  207.501907\n",
       "3200  213.150055  217.500061  213.150055  217.050049  212.269516\n",
       "3201  217.875061  218.512558  213.900055  215.850052  211.095963\n",
       "3202  216.300049  217.087555  213.937546  215.400055  210.655853\n",
       "3203  216.300049  217.875061  211.762558  216.450058  211.682724\n",
       "3204  216.450058  218.062561  215.025055  217.275055  212.489563\n",
       "3205  215.250046  223.312561  213.187546  221.850052  216.963791\n",
       "3206  221.250061  222.712555  217.912552  219.300049  214.469955\n",
       "3207  221.137558  223.875061  219.300049  222.375061  217.477249\n",
       "3208  221.850052  224.250061  220.800049  223.312561  218.394073\n",
       "3209  223.500061  227.550049  222.037552  226.200058  221.217987\n",
       "3210  225.937561  230.250061  223.612549  227.175049  222.171494\n",
       "3211  227.925049  231.000061  225.037552  229.950058  224.885406\n",
       "3212  229.425064  232.425064  226.875061  231.000061  225.912262\n",
       "3213  229.050064  237.300064  227.250061  235.687561  230.496521"
      ]
     },
     "execution_count": 29,
     "metadata": {},
     "output_type": "execute_result"
    }
   ],
   "source": [
    "past_30_days"
   ]
  },
  {
   "cell_type": "code",
   "execution_count": 30,
   "id": "92eb0558",
   "metadata": {},
   "outputs": [],
   "source": [
    "final_testing_df=past_30_days.append(df_for_testing,ignore_index=True)"
   ]
  },
  {
   "cell_type": "code",
   "execution_count": 31,
   "id": "98fcaf2e",
   "metadata": {},
   "outputs": [],
   "source": [
    "#now scale the testing data\n",
    "\n",
    "input_data=scaler.fit_transform(final_testing_df)"
   ]
  },
  {
   "cell_type": "code",
   "execution_count": 32,
   "id": "cb222e2f",
   "metadata": {},
   "outputs": [
    {
     "data": {
      "text/plain": [
       "(1087, 5)"
      ]
     },
     "execution_count": 32,
     "metadata": {},
     "output_type": "execute_result"
    }
   ],
   "source": [
    "input_data.shape"
   ]
  },
  {
   "cell_type": "code",
   "execution_count": 33,
   "id": "2ae1dbed",
   "metadata": {},
   "outputs": [],
   "source": [
    "x_test=[]\n",
    "y_test_open=[]\n",
    "y_test_high=[]\n",
    "y_test_low=[]\n",
    "y_test_close=[]\n",
    "y_test_adjClose=[]\n",
    "\n",
    "for i in range(30,input_data.shape[0]):\n",
    "    x_test.append(input_data[i-30:i])\n",
    "    y_test_open.append(input_data[i,0])\n",
    "    y_test_high.append(input_data[i,1])\n",
    "    y_test_low.append(input_data[i,2])\n",
    "    y_test_close.append(input_data[i,3])\n",
    "    y_test_adjClose.append(input_data[i,4])"
   ]
  },
  {
   "cell_type": "code",
   "execution_count": 34,
   "id": "fd919fc6",
   "metadata": {},
   "outputs": [
    {
     "name": "stdout",
     "output_type": "stream",
     "text": [
      "(1057, 30, 5)\n",
      "(1057,)\n"
     ]
    }
   ],
   "source": [
    "x_test,y_test_open,y_test_high,y_test_low,y_test_close,y_test_adjClose=np.array(x_test),np.array(y_test_open),np.array(y_test_high),np.array(y_test_low),np.array(y_test_close),np.array(y_test_adjClose)\n",
    "print(x_test.shape)\n",
    "print(y_test_open.shape)"
   ]
  },
  {
   "cell_type": "markdown",
   "id": "c4a0086c",
   "metadata": {},
   "source": [
    "For Open"
   ]
  },
  {
   "cell_type": "code",
   "execution_count": 35,
   "id": "9fc7ce6b",
   "metadata": {},
   "outputs": [
    {
     "name": "stdout",
     "output_type": "stream",
     "text": [
      "34/34 [==============================] - 3s 20ms/step\n"
     ]
    }
   ],
   "source": [
    "y_pred_open=model_open.predict(x_test)"
   ]
  },
  {
   "cell_type": "code",
   "execution_count": 36,
   "id": "314dd0ef",
   "metadata": {},
   "outputs": [
    {
     "data": {
      "text/plain": [
       "numpy.ndarray"
      ]
     },
     "execution_count": 36,
     "metadata": {},
     "output_type": "execute_result"
    }
   ],
   "source": [
    "type(y_pred_open)"
   ]
  },
  {
   "cell_type": "code",
   "execution_count": 37,
   "id": "c66e7767",
   "metadata": {},
   "outputs": [
    {
     "data": {
      "text/plain": [
       "(1057, 1)"
      ]
     },
     "execution_count": 37,
     "metadata": {},
     "output_type": "execute_result"
    }
   ],
   "source": [
    "y_pred_open.shape"
   ]
  },
  {
   "cell_type": "code",
   "execution_count": 38,
   "id": "1e584dda",
   "metadata": {},
   "outputs": [],
   "source": [
    "prediction_copies_open = np.repeat(y_pred_open, df_for_training.shape[1], axis=-1)\n",
    "y_pred_open = scaler.inverse_transform(prediction_copies_open)[:,0]"
   ]
  },
  {
   "cell_type": "code",
   "execution_count": 39,
   "id": "30db189d",
   "metadata": {},
   "outputs": [],
   "source": [
    "y_test_open=y_test_open.reshape(-1,1)\n",
    "testing_copies_open=np.repeat(y_test_open,df_for_training.shape[1],axis=-1)\n",
    "y_test_open=scaler.inverse_transform(testing_copies_open)[:,0]"
   ]
  },
  {
   "cell_type": "code",
   "execution_count": 40,
   "id": "a1996fc9",
   "metadata": {},
   "outputs": [
    {
     "name": "stdout",
     "output_type": "stream",
     "text": [
      "[234.90344 236.84859 238.8674  ... 588.26294 587.9035  576.34955]\n"
     ]
    }
   ],
   "source": [
    "print(y_pred_open)"
   ]
  },
  {
   "cell_type": "code",
   "execution_count": 41,
   "id": "01593eeb",
   "metadata": {},
   "outputs": [
    {
     "name": "stdout",
     "output_type": "stream",
     "text": [
      "[233.625061 236.887558 240.300064 ... 586.       584.       568.      ]\n"
     ]
    }
   ],
   "source": [
    "print(y_test_open)"
   ]
  },
  {
   "cell_type": "code",
   "execution_count": 42,
   "id": "90189159",
   "metadata": {},
   "outputs": [
    {
     "data": {
      "image/png": "[encoded data removed]",
      "text/plain": [
       "<Figure size 1200x600 with 1 Axes>"
      ]
     },
     "metadata": {},
     "output_type": "display_data"
    }
   ],
   "source": [
    "plt.figure(figsize=(12,6))\n",
    "plt.plot(y_test_open,'b',label='Original Price')\n",
    "plt.plot(y_pred_open,'r',label='Predicted Price')\n",
    "plt.xlabel('Time')\n",
    "plt.ylabel('Price')\n",
    "plt.legend()\n",
    "plt.show()"
   ]
  },
  {
   "cell_type": "code",
   "execution_count": 43,
   "id": "479a3d36",
   "metadata": {},
   "outputs": [
    {
     "name": "stdout",
     "output_type": "stream",
     "text": [
      "1056\n"
     ]
    }
   ],
   "source": [
    "correct=0\n",
    "for i in range(1,y_test_open.shape[0]+1):\n",
    "    if((abs(y_pred_open[i-1]-y_test_open[i-1])/y_test_open[i-1])<=0.1):\n",
    "        correct+=1\n",
    "\n",
    "print(correct)"
   ]
  },
  {
   "cell_type": "code",
   "execution_count": 44,
   "id": "e8f008bf",
   "metadata": {},
   "outputs": [
    {
     "data": {
      "text/plain": [
       "3.405192944332242"
      ]
     },
     "execution_count": 44,
     "metadata": {},
     "output_type": "execute_result"
    }
   ],
   "source": [
    "error=0\n",
    "for i in range(1,1057):\n",
    "    error+=abs(y_pred_open[i-1]-y_test_open[i-1])\n",
    "\n",
    "mean=error/1057\n",
    "mean"
   ]
  },
  {
   "cell_type": "code",
   "execution_count": 46,
   "id": "c6e51e39",
   "metadata": {},
   "outputs": [
    {
     "data": {
      "text/plain": [
       "6.653849162921682"
      ]
     },
     "execution_count": 46,
     "metadata": {},
     "output_type": "execute_result"
    }
   ],
   "source": [
    "import math \n",
    "from sklearn.metrics import mean_squared_error\n",
    "rmse=math.sqrt(mean_squared_error(y_test_open,y_pred_open))\n",
    "rmse"
   ]
  },
  {
   "cell_type": "code",
   "execution_count": 47,
   "id": "46440336",
   "metadata": {},
   "outputs": [
    {
     "data": {
      "text/plain": [
       "1.8386312178061277"
      ]
     },
     "execution_count": 47,
     "metadata": {},
     "output_type": "execute_result"
    }
   ],
   "source": [
    "nrmse=rmse/(y_test_high.max()-y_test_high.min())\n",
    "nrmse"
   ]
  },
  {
   "cell_type": "markdown",
   "id": "1cf79201",
   "metadata": {},
   "source": [
    "For High"
   ]
  },
  {
   "cell_type": "code",
   "execution_count": 48,
   "id": "39d0b52b",
   "metadata": {},
   "outputs": [
    {
     "name": "stdout",
     "output_type": "stream",
     "text": [
      "34/34 [==============================] - 2s 17ms/step\n"
     ]
    }
   ],
   "source": [
    "y_pred_high=model_high.predict(x_test)"
   ]
  },
  {
   "cell_type": "code",
   "execution_count": 49,
   "id": "9ef531c7",
   "metadata": {},
   "outputs": [],
   "source": [
    "prediction_copies_high = np.repeat(y_pred_high, df_for_training.shape[1], axis=-1)\n",
    "y_pred_high = scaler.inverse_transform(prediction_copies_high)[:,0]"
   ]
  },
  {
   "cell_type": "code",
   "execution_count": 50,
   "id": "53525667",
   "metadata": {},
   "outputs": [],
   "source": [
    "y_test_high=y_test_high.reshape(-1,1)\n",
    "testing_copies_high=np.repeat(y_test_high,df_for_training.shape[1],axis=-1)\n",
    "y_test_high=scaler.inverse_transform(testing_copies_high)[:,0]"
   ]
  },
  {
   "cell_type": "code",
   "execution_count": 51,
   "id": "5fa4c788",
   "metadata": {},
   "outputs": [
    {
     "name": "stdout",
     "output_type": "stream",
     "text": [
      "[236.0763  238.09322 240.26251 ... 584.3306  583.9546  573.8325 ]\n"
     ]
    }
   ],
   "source": [
    "print(y_pred_high)"
   ]
  },
  {
   "cell_type": "code",
   "execution_count": 52,
   "id": "9ecfea43",
   "metadata": {},
   "outputs": [
    {
     "name": "stdout",
     "output_type": "stream",
     "text": [
      "[236.96813673 239.93813344 237.26513937 ... 580.49769659 577.7751996\n",
      " 561.68771738]\n"
     ]
    }
   ],
   "source": [
    "print(y_test_high)"
   ]
  },
  {
   "cell_type": "code",
   "execution_count": 53,
   "id": "dd53c490",
   "metadata": {},
   "outputs": [
    {
     "data": {
      "image/png": "[encoded data removed]",
      "text/plain": [
       "<Figure size 1200x600 with 1 Axes>"
      ]
     },
     "metadata": {},
     "output_type": "display_data"
    }
   ],
   "source": [
    "plt.figure(figsize=(12,6))\n",
    "plt.plot(y_test_high,'b',label='Original Price')\n",
    "plt.plot(y_pred_high,'r',label='Predicted Price')\n",
    "plt.xlabel('Time')\n",
    "plt.ylabel('Price')\n",
    "plt.legend()\n",
    "plt.show()"
   ]
  },
  {
   "cell_type": "code",
   "execution_count": 54,
   "id": "6776e600",
   "metadata": {},
   "outputs": [
    {
     "name": "stdout",
     "output_type": "stream",
     "text": [
      "1055\n"
     ]
    }
   ],
   "source": [
    "correct=0\n",
    "for i in range(1,y_test_high.shape[0]+1):\n",
    "    if((abs(y_pred_high[i-1]-y_test_high[i-1])/y_test_high[i-1])<=0.1):\n",
    "        correct+=1\n",
    "\n",
    "print(correct)"
   ]
  },
  {
   "cell_type": "code",
   "execution_count": 55,
   "id": "713547ca",
   "metadata": {},
   "outputs": [
    {
     "data": {
      "text/plain": [
       "8.506525752362576"
      ]
     },
     "execution_count": 55,
     "metadata": {},
     "output_type": "execute_result"
    }
   ],
   "source": [
    "import math \n",
    "from sklearn.metrics import mean_squared_error\n",
    "rmse=math.sqrt(mean_squared_error(y_test_high,y_pred_high))\n",
    "rmse"
   ]
  },
  {
   "cell_type": "markdown",
   "id": "9d93a0bc",
   "metadata": {},
   "source": [
    "For Low"
   ]
  },
  {
   "cell_type": "code",
   "execution_count": 56,
   "id": "046f96f1",
   "metadata": {},
   "outputs": [
    {
     "name": "stdout",
     "output_type": "stream",
     "text": [
      "34/34 [==============================] - 2s 18ms/step\n"
     ]
    }
   ],
   "source": [
    "y_pred_low=model_low.predict(x_test)"
   ]
  },
  {
   "cell_type": "code",
   "execution_count": 57,
   "id": "b7fadaf4",
   "metadata": {},
   "outputs": [],
   "source": [
    "prediction_copies_low = np.repeat(y_pred_low, df_for_training.shape[1], axis=-1)\n",
    "y_pred_low = scaler.inverse_transform(prediction_copies_low)[:,0]"
   ]
  },
  {
   "cell_type": "code",
   "execution_count": 58,
   "id": "f9a94caa",
   "metadata": {},
   "outputs": [],
   "source": [
    "y_test_low=y_test_low.reshape(-1,1)\n",
    "testing_copies_low=np.repeat(y_test_low,df_for_training.shape[1],axis=-1)\n",
    "y_test_low=scaler.inverse_transform(testing_copies_low)[:,0]"
   ]
  },
  {
   "cell_type": "code",
   "execution_count": 59,
   "id": "639aaccc",
   "metadata": {},
   "outputs": [
    {
     "name": "stdout",
     "output_type": "stream",
     "text": [
      "[229.44647 231.97466 234.48962 ... 588.4958  589.9378  576.54297]\n"
     ]
    }
   ],
   "source": [
    "print(y_pred_low)"
   ]
  },
  {
   "cell_type": "code",
   "execution_count": 60,
   "id": "f7472447",
   "metadata": {},
   "outputs": [
    {
     "name": "stdout",
     "output_type": "stream",
     "text": [
      "[235.1597653  238.95558413 234.62835673 ... 587.8292376  575.27770569\n",
      " 563.2323437 ]\n"
     ]
    }
   ],
   "source": [
    "print(y_test_low)"
   ]
  },
  {
   "cell_type": "code",
   "execution_count": 61,
   "id": "1e53e73a",
   "metadata": {},
   "outputs": [
    {
     "data": {
      "image/png": "[encoded data removed]",
      "text/plain": [
       "<Figure size 1200x600 with 1 Axes>"
      ]
     },
     "metadata": {},
     "output_type": "display_data"
    }
   ],
   "source": [
    "plt.figure(figsize=(12,6))\n",
    "plt.plot(y_test_low,'b',label='Original Price')\n",
    "plt.plot(y_pred_low,'r',label='Predicted Price')\n",
    "plt.xlabel('Time')\n",
    "plt.ylabel('Price')\n",
    "plt.legend()\n",
    "plt.show()"
   ]
  },
  {
   "cell_type": "code",
   "execution_count": 62,
   "id": "6e56f810",
   "metadata": {},
   "outputs": [
    {
     "name": "stdout",
     "output_type": "stream",
     "text": [
      "1056\n"
     ]
    }
   ],
   "source": [
    "correct=0\n",
    "for i in range(1,y_test_low.shape[0]+1):\n",
    "    if((abs(y_pred_low[i-1]-y_test_low[i-1])/y_test_low[i-1])<=0.10):\n",
    "        correct+=1\n",
    "\n",
    "print(correct)"
   ]
  },
  {
   "cell_type": "code",
   "execution_count": 63,
   "id": "7674cc80",
   "metadata": {},
   "outputs": [
    {
     "data": {
      "text/plain": [
       "5.841103093945809"
      ]
     },
     "execution_count": 63,
     "metadata": {},
     "output_type": "execute_result"
    }
   ],
   "source": [
    "error=0\n",
    "for i in range(1,1057):\n",
    "    error+=abs(y_pred_low[i-1]-y_test_low[i-1])\n",
    "\n",
    "mean=error/1057\n",
    "mean"
   ]
  },
  {
   "cell_type": "markdown",
   "id": "09eae366",
   "metadata": {},
   "source": [
    "For Close"
   ]
  },
  {
   "cell_type": "code",
   "execution_count": 64,
   "id": "1f2bfe0a",
   "metadata": {},
   "outputs": [
    {
     "name": "stdout",
     "output_type": "stream",
     "text": [
      "34/34 [==============================] - 2s 17ms/step\n"
     ]
    }
   ],
   "source": [
    "y_pred_close=model_close.predict(x_test)"
   ]
  },
  {
   "cell_type": "code",
   "execution_count": 65,
   "id": "08c463a5",
   "metadata": {},
   "outputs": [],
   "source": [
    "prediction_copies_close = np.repeat(y_pred_close, df_for_training.shape[1], axis=-1)\n",
    "y_pred_close = scaler.inverse_transform(prediction_copies_close)[:,0]"
   ]
  },
  {
   "cell_type": "code",
   "execution_count": 66,
   "id": "a663284b",
   "metadata": {},
   "outputs": [],
   "source": [
    "y_test_close=y_test_close.reshape(-1,1)\n",
    "testing_copies_close=np.repeat(y_test_close,df_for_training.shape[1],axis=-1)\n",
    "y_test_close=scaler.inverse_transform(testing_copies_close)[:,0]"
   ]
  },
  {
   "cell_type": "code",
   "execution_count": 67,
   "id": "a9e6f0d0",
   "metadata": {},
   "outputs": [
    {
     "name": "stdout",
     "output_type": "stream",
     "text": [
      "[238.61736 240.65515 242.91278 ... 590.91296 590.0178  576.30414]\n"
     ]
    }
   ],
   "source": [
    "print(y_pred_close)"
   ]
  },
  {
   "cell_type": "code",
   "execution_count": 68,
   "id": "901c1337",
   "metadata": {},
   "outputs": [
    {
     "name": "stdout",
     "output_type": "stream",
     "text": [
      "[237.47546441 239.09127676 232.51530849 ... 584.42352204 571.84771749\n",
      " 559.42230496]\n"
     ]
    }
   ],
   "source": [
    "print(y_test_close)"
   ]
  },
  {
   "cell_type": "code",
   "execution_count": 69,
   "id": "d118a055",
   "metadata": {},
   "outputs": [
    {
     "data": {
      "image/png": "[encoded data removed]",
      "text/plain": [
       "<Figure size 1200x600 with 1 Axes>"
      ]
     },
     "metadata": {},
     "output_type": "display_data"
    }
   ],
   "source": [
    "plt.figure(figsize=(12,6))\n",
    "plt.plot(y_test_close,'b',label='Original Price')\n",
    "plt.plot(y_pred_close,'r',label='Predicted Price')\n",
    "plt.xlabel('Time')\n",
    "plt.ylabel('Price')\n",
    "plt.legend()\n",
    "plt.show()"
   ]
  },
  {
   "cell_type": "code",
   "execution_count": 70,
   "id": "af5609de",
   "metadata": {},
   "outputs": [
    {
     "name": "stdout",
     "output_type": "stream",
     "text": [
      "1054\n"
     ]
    }
   ],
   "source": [
    "correct=0\n",
    "for i in range(1,y_test_close.shape[0]+1):\n",
    "    if((abs(y_pred_close[i-1]-y_test_close[i-1])/y_test_close[i-1])<=0.1):\n",
    "        correct+=1\n",
    "\n",
    "print(correct)"
   ]
  },
  {
   "cell_type": "code",
   "execution_count": 71,
   "id": "b3aac2c9",
   "metadata": {},
   "outputs": [
    {
     "data": {
      "text/plain": [
       "6.7654943241887056"
      ]
     },
     "execution_count": 71,
     "metadata": {},
     "output_type": "execute_result"
    }
   ],
   "source": [
    "error=0\n",
    "for i in range(1,1057):\n",
    "    error+=abs(y_pred_close[i-1]-y_test_close[i-1])\n",
    "\n",
    "mean=error/1057\n",
    "mean"
   ]
  },
  {
   "cell_type": "markdown",
   "id": "120003b2",
   "metadata": {},
   "source": [
    "For AdjClose"
   ]
  },
  {
   "cell_type": "code",
   "execution_count": 72,
   "id": "bf4c9ff4",
   "metadata": {},
   "outputs": [
    {
     "name": "stdout",
     "output_type": "stream",
     "text": [
      "34/34 [==============================] - 2s 17ms/step\n"
     ]
    }
   ],
   "source": [
    "y_pred_adjClose=model_adjClose.predict(x_test)"
   ]
  },
  {
   "cell_type": "code",
   "execution_count": 73,
   "id": "ba2ad077",
   "metadata": {},
   "outputs": [],
   "source": [
    "prediction_copies_adjClose = np.repeat(y_pred_adjClose, df_for_training.shape[1], axis=-1)\n",
    "y_pred_adjClose = scaler.inverse_transform(prediction_copies_adjClose)[:,0]"
   ]
  },
  {
   "cell_type": "code",
   "execution_count": 74,
   "id": "fcff6c35",
   "metadata": {},
   "outputs": [],
   "source": [
    "y_test_adjClose=y_test_adjClose.reshape(-1,1)\n",
    "testing_copies_adjClose=np.repeat(y_test_adjClose,df_for_training.shape[1],axis=-1)\n",
    "y_test_adjClose=scaler.inverse_transform(testing_copies_adjClose)[:,0]"
   ]
  },
  {
   "cell_type": "code",
   "execution_count": 75,
   "id": "f2b020d0",
   "metadata": {},
   "outputs": [
    {
     "name": "stdout",
     "output_type": "stream",
     "text": [
      "[228.79785 230.78479 232.56697 ... 586.31506 586.2677  577.4094 ]\n"
     ]
    }
   ],
   "source": [
    "print(y_pred_adjClose)"
   ]
  },
  {
   "cell_type": "code",
   "execution_count": 76,
   "id": "93be2c20",
   "metadata": {},
   "outputs": [
    {
     "name": "stdout",
     "output_type": "stream",
     "text": [
      "[236.09805302 237.68614431 231.22300524 ... 590.03735996 577.39901347\n",
      " 564.91180694]\n"
     ]
    }
   ],
   "source": [
    "print(y_test_adjClose)"
   ]
  },
  {
   "cell_type": "code",
   "execution_count": 77,
   "id": "397c8e8b",
   "metadata": {},
   "outputs": [
    {
     "data": {
      "image/png": "[encoded data removed]",
      "text/plain": [
       "<Figure size 1200x600 with 1 Axes>"
      ]
     },
     "metadata": {},
     "output_type": "display_data"
    }
   ],
   "source": [
    "plt.figure(figsize=(12,6))\n",
    "plt.plot(y_test_adjClose,'b',label='Original Price')\n",
    "plt.plot(y_pred_adjClose,'r',label='Predicted Price')\n",
    "plt.xlabel('Time')\n",
    "plt.ylabel('Price')\n",
    "plt.legend()\n",
    "plt.show()"
   ]
  },
  {
   "cell_type": "code",
   "execution_count": 78,
   "id": "6b78d48b",
   "metadata": {},
   "outputs": [
    {
     "name": "stdout",
     "output_type": "stream",
     "text": [
      "1056\n"
     ]
    }
   ],
   "source": [
    "correct=0\n",
    "for i in range(1,y_test_adjClose.shape[0]+1):\n",
    "    if((abs(y_pred_adjClose[i-1]-y_test_adjClose[i-1])/y_test_adjClose[i-1])<=0.1):\n",
    "        correct+=1\n",
    "\n",
    "print(correct)"
   ]
  },
  {
   "cell_type": "markdown",
   "id": "b0d61906",
   "metadata": {},
   "source": [
    "# Forecasting"
   ]
  },
  {
   "cell_type": "code",
   "execution_count": 79,
   "id": "12c1052e",
   "metadata": {},
   "outputs": [],
   "source": [
    "past_30=df_for_testing.tail(30)"
   ]
  },
  {
   "cell_type": "code",
   "execution_count": 80,
   "id": "474254bf",
   "metadata": {},
   "outputs": [
    {
     "data": {
      "text/html": [
       "<div>\n",
       "<style scoped>\n",
       "    .dataframe tbody tr th:only-of-type {\n",
       "        vertical-align: middle;\n",
       "    }\n",
       "\n",
       "    .dataframe tbody tr th {\n",
       "        vertical-align: top;\n",
       "    }\n",
       "\n",
       "    .dataframe thead th {\n",
       "        text-align: right;\n",
       "    }\n",
       "</style>\n",
       "<table border=\"1\" class=\"dataframe\">\n",
       "  <thead>\n",
       "    <tr style=\"text-align: right;\">\n",
       "      <th></th>\n",
       "      <th>Open</th>\n",
       "      <th>High</th>\n",
       "      <th>Low</th>\n",
       "      <th>Close</th>\n",
       "      <th>Adj Close</th>\n",
       "    </tr>\n",
       "  </thead>\n",
       "  <tbody>\n",
       "    <tr>\n",
       "      <th>1027</th>\n",
       "      <td>551.000000</td>\n",
       "      <td>560.099976</td>\n",
       "      <td>544.099976</td>\n",
       "      <td>555.799988</td>\n",
       "      <td>551.211182</td>\n",
       "    </tr>\n",
       "    <tr>\n",
       "      <th>1028</th>\n",
       "      <td>555.000000</td>\n",
       "      <td>558.299988</td>\n",
       "      <td>550.400024</td>\n",
       "      <td>555.200012</td>\n",
       "      <td>550.616150</td>\n",
       "    </tr>\n",
       "    <tr>\n",
       "      <th>1029</th>\n",
       "      <td>563.000000</td>\n",
       "      <td>575.950012</td>\n",
       "      <td>560.349976</td>\n",
       "      <td>569.549988</td>\n",
       "      <td>564.847656</td>\n",
       "    </tr>\n",
       "    <tr>\n",
       "      <th>1030</th>\n",
       "      <td>561.000000</td>\n",
       "      <td>580.000000</td>\n",
       "      <td>554.049988</td>\n",
       "      <td>575.299988</td>\n",
       "      <td>570.550171</td>\n",
       "    </tr>\n",
       "    <tr>\n",
       "      <th>1031</th>\n",
       "      <td>563.000000</td>\n",
       "      <td>579.650024</td>\n",
       "      <td>562.250000</td>\n",
       "      <td>571.849976</td>\n",
       "      <td>567.128662</td>\n",
       "    </tr>\n",
       "    <tr>\n",
       "      <th>1032</th>\n",
       "      <td>572.000000</td>\n",
       "      <td>590.750000</td>\n",
       "      <td>572.000000</td>\n",
       "      <td>587.450012</td>\n",
       "      <td>582.599854</td>\n",
       "    </tr>\n",
       "    <tr>\n",
       "      <th>1033</th>\n",
       "      <td>588.000000</td>\n",
       "      <td>596.400024</td>\n",
       "      <td>582.150024</td>\n",
       "      <td>585.500000</td>\n",
       "      <td>580.665955</td>\n",
       "    </tr>\n",
       "    <tr>\n",
       "      <th>1034</th>\n",
       "      <td>595.000000</td>\n",
       "      <td>596.500000</td>\n",
       "      <td>584.599976</td>\n",
       "      <td>588.250000</td>\n",
       "      <td>583.393250</td>\n",
       "    </tr>\n",
       "    <tr>\n",
       "      <th>1035</th>\n",
       "      <td>587.000000</td>\n",
       "      <td>590.000000</td>\n",
       "      <td>582.400024</td>\n",
       "      <td>586.200012</td>\n",
       "      <td>581.360168</td>\n",
       "    </tr>\n",
       "    <tr>\n",
       "      <th>1036</th>\n",
       "      <td>586.400024</td>\n",
       "      <td>600.799988</td>\n",
       "      <td>586.000000</td>\n",
       "      <td>598.150024</td>\n",
       "      <td>593.211548</td>\n",
       "    </tr>\n",
       "    <tr>\n",
       "      <th>1037</th>\n",
       "      <td>603.700012</td>\n",
       "      <td>603.700012</td>\n",
       "      <td>584.299988</td>\n",
       "      <td>587.700012</td>\n",
       "      <td>582.847839</td>\n",
       "    </tr>\n",
       "    <tr>\n",
       "      <th>1038</th>\n",
       "      <td>595.250000</td>\n",
       "      <td>599.450012</td>\n",
       "      <td>592.500000</td>\n",
       "      <td>598.250000</td>\n",
       "      <td>593.310669</td>\n",
       "    </tr>\n",
       "    <tr>\n",
       "      <th>1039</th>\n",
       "      <td>605.000000</td>\n",
       "      <td>611.000000</td>\n",
       "      <td>599.000000</td>\n",
       "      <td>601.200012</td>\n",
       "      <td>596.236328</td>\n",
       "    </tr>\n",
       "    <tr>\n",
       "      <th>1040</th>\n",
       "      <td>605.099976</td>\n",
       "      <td>616.000000</td>\n",
       "      <td>598.000000</td>\n",
       "      <td>600.000000</td>\n",
       "      <td>595.046265</td>\n",
       "    </tr>\n",
       "    <tr>\n",
       "      <th>1041</th>\n",
       "      <td>603.400024</td>\n",
       "      <td>611.000000</td>\n",
       "      <td>596.150024</td>\n",
       "      <td>610.049988</td>\n",
       "      <td>605.013245</td>\n",
       "    </tr>\n",
       "    <tr>\n",
       "      <th>1042</th>\n",
       "      <td>613.950012</td>\n",
       "      <td>615.000000</td>\n",
       "      <td>607.700012</td>\n",
       "      <td>611.200012</td>\n",
       "      <td>606.153809</td>\n",
       "    </tr>\n",
       "    <tr>\n",
       "      <th>1043</th>\n",
       "      <td>607.000000</td>\n",
       "      <td>613.799988</td>\n",
       "      <td>605.799988</td>\n",
       "      <td>610.549988</td>\n",
       "      <td>605.509155</td>\n",
       "    </tr>\n",
       "    <tr>\n",
       "      <th>1044</th>\n",
       "      <td>611.000000</td>\n",
       "      <td>614.000000</td>\n",
       "      <td>597.250000</td>\n",
       "      <td>603.349976</td>\n",
       "      <td>598.368591</td>\n",
       "    </tr>\n",
       "    <tr>\n",
       "      <th>1045</th>\n",
       "      <td>608.000000</td>\n",
       "      <td>609.000000</td>\n",
       "      <td>597.099976</td>\n",
       "      <td>600.200012</td>\n",
       "      <td>595.244629</td>\n",
       "    </tr>\n",
       "    <tr>\n",
       "      <th>1046</th>\n",
       "      <td>603.000000</td>\n",
       "      <td>605.349976</td>\n",
       "      <td>599.150024</td>\n",
       "      <td>602.500000</td>\n",
       "      <td>597.525635</td>\n",
       "    </tr>\n",
       "    <tr>\n",
       "      <th>1047</th>\n",
       "      <td>605.099976</td>\n",
       "      <td>609.299988</td>\n",
       "      <td>599.500000</td>\n",
       "      <td>600.799988</td>\n",
       "      <td>595.839600</td>\n",
       "    </tr>\n",
       "    <tr>\n",
       "      <th>1048</th>\n",
       "      <td>600.000000</td>\n",
       "      <td>603.299988</td>\n",
       "      <td>590.200012</td>\n",
       "      <td>591.900024</td>\n",
       "      <td>587.013123</td>\n",
       "    </tr>\n",
       "    <tr>\n",
       "      <th>1049</th>\n",
       "      <td>591.700012</td>\n",
       "      <td>603.400024</td>\n",
       "      <td>589.299988</td>\n",
       "      <td>601.799988</td>\n",
       "      <td>596.831360</td>\n",
       "    </tr>\n",
       "    <tr>\n",
       "      <th>1050</th>\n",
       "      <td>605.000000</td>\n",
       "      <td>606.500000</td>\n",
       "      <td>599.000000</td>\n",
       "      <td>605.599976</td>\n",
       "      <td>600.599976</td>\n",
       "    </tr>\n",
       "    <tr>\n",
       "      <th>1051</th>\n",
       "      <td>605.450012</td>\n",
       "      <td>609.500000</td>\n",
       "      <td>598.049988</td>\n",
       "      <td>599.150024</td>\n",
       "      <td>599.150024</td>\n",
       "    </tr>\n",
       "    <tr>\n",
       "      <th>1052</th>\n",
       "      <td>598.000000</td>\n",
       "      <td>598.000000</td>\n",
       "      <td>591.000000</td>\n",
       "      <td>593.549988</td>\n",
       "      <td>593.549988</td>\n",
       "    </tr>\n",
       "    <tr>\n",
       "      <th>1053</th>\n",
       "      <td>592.000000</td>\n",
       "      <td>592.000000</td>\n",
       "      <td>577.500000</td>\n",
       "      <td>580.849976</td>\n",
       "      <td>580.849976</td>\n",
       "    </tr>\n",
       "    <tr>\n",
       "      <th>1054</th>\n",
       "      <td>586.000000</td>\n",
       "      <td>587.000000</td>\n",
       "      <td>580.500000</td>\n",
       "      <td>583.650024</td>\n",
       "      <td>583.650024</td>\n",
       "    </tr>\n",
       "    <tr>\n",
       "      <th>1055</th>\n",
       "      <td>584.000000</td>\n",
       "      <td>584.250000</td>\n",
       "      <td>568.099976</td>\n",
       "      <td>571.099976</td>\n",
       "      <td>571.099976</td>\n",
       "    </tr>\n",
       "    <tr>\n",
       "      <th>1056</th>\n",
       "      <td>568.000000</td>\n",
       "      <td>568.000000</td>\n",
       "      <td>556.200012</td>\n",
       "      <td>558.700012</td>\n",
       "      <td>558.700012</td>\n",
       "    </tr>\n",
       "  </tbody>\n",
       "</table>\n",
       "</div>"
      ],
      "text/plain": [
       "            Open        High         Low       Close   Adj Close\n",
       "1027  551.000000  560.099976  544.099976  555.799988  551.211182\n",
       "1028  555.000000  558.299988  550.400024  555.200012  550.616150\n",
       "1029  563.000000  575.950012  560.349976  569.549988  564.847656\n",
       "1030  561.000000  580.000000  554.049988  575.299988  570.550171\n",
       "1031  563.000000  579.650024  562.250000  571.849976  567.128662\n",
       "1032  572.000000  590.750000  572.000000  587.450012  582.599854\n",
       "1033  588.000000  596.400024  582.150024  585.500000  580.665955\n",
       "1034  595.000000  596.500000  584.599976  588.250000  583.393250\n",
       "1035  587.000000  590.000000  582.400024  586.200012  581.360168\n",
       "1036  586.400024  600.799988  586.000000  598.150024  593.211548\n",
       "1037  603.700012  603.700012  584.299988  587.700012  582.847839\n",
       "1038  595.250000  599.450012  592.500000  598.250000  593.310669\n",
       "1039  605.000000  611.000000  599.000000  601.200012  596.236328\n",
       "1040  605.099976  616.000000  598.000000  600.000000  595.046265\n",
       "1041  603.400024  611.000000  596.150024  610.049988  605.013245\n",
       "1042  613.950012  615.000000  607.700012  611.200012  606.153809\n",
       "1043  607.000000  613.799988  605.799988  610.549988  605.509155\n",
       "1044  611.000000  614.000000  597.250000  603.349976  598.368591\n",
       "1045  608.000000  609.000000  597.099976  600.200012  595.244629\n",
       "1046  603.000000  605.349976  599.150024  602.500000  597.525635\n",
       "1047  605.099976  609.299988  599.500000  600.799988  595.839600\n",
       "1048  600.000000  603.299988  590.200012  591.900024  587.013123\n",
       "1049  591.700012  603.400024  589.299988  601.799988  596.831360\n",
       "1050  605.000000  606.500000  599.000000  605.599976  600.599976\n",
       "1051  605.450012  609.500000  598.049988  599.150024  599.150024\n",
       "1052  598.000000  598.000000  591.000000  593.549988  593.549988\n",
       "1053  592.000000  592.000000  577.500000  580.849976  580.849976\n",
       "1054  586.000000  587.000000  580.500000  583.650024  583.650024\n",
       "1055  584.000000  584.250000  568.099976  571.099976  571.099976\n",
       "1056  568.000000  568.000000  556.200012  558.700012  558.700012"
      ]
     },
     "execution_count": 80,
     "metadata": {},
     "output_type": "execute_result"
    }
   ],
   "source": [
    "past_30"
   ]
  },
  {
   "cell_type": "code",
   "execution_count": 81,
   "id": "574f971d",
   "metadata": {},
   "outputs": [],
   "source": [
    "input=scaler.fit_transform(past_30)"
   ]
  },
  {
   "cell_type": "code",
   "execution_count": 82,
   "id": "358b3541",
   "metadata": {},
   "outputs": [
    {
     "name": "stdout",
     "output_type": "stream",
     "text": [
      "1/1 [==============================] - 0s 24ms/step\n",
      "1/1 [==============================] - 0s 22ms/step\n",
      "1/1 [==============================] - 0s 21ms/step\n",
      "1/1 [==============================] - 0s 24ms/step\n",
      "1/1 [==============================] - 0s 29ms/step\n",
      "1/1 [==============================] - 0s 34ms/step\n",
      "1/1 [==============================] - 0s 37ms/step\n",
      "1/1 [==============================] - 0s 29ms/step\n",
      "1/1 [==============================] - 0s 26ms/step\n",
      "1/1 [==============================] - 0s 45ms/step\n",
      "1/1 [==============================] - 0s 26ms/step\n",
      "1/1 [==============================] - 0s 24ms/step\n",
      "1/1 [==============================] - 0s 20ms/step\n",
      "1/1 [==============================] - 0s 21ms/step\n",
      "1/1 [==============================] - 0s 24ms/step\n",
      "1/1 [==============================] - 0s 20ms/step\n",
      "1/1 [==============================] - 0s 20ms/step\n",
      "1/1 [==============================] - 0s 29ms/step\n",
      "1/1 [==============================] - 0s 34ms/step\n",
      "1/1 [==============================] - 0s 36ms/step\n",
      "1/1 [==============================] - 0s 24ms/step\n",
      "1/1 [==============================] - 0s 25ms/step\n",
      "1/1 [==============================] - 0s 24ms/step\n",
      "1/1 [==============================] - 0s 20ms/step\n",
      "1/1 [==============================] - 0s 22ms/step\n",
      "1/1 [==============================] - 0s 19ms/step\n",
      "1/1 [==============================] - 0s 22ms/step\n",
      "1/1 [==============================] - 0s 21ms/step\n",
      "1/1 [==============================] - 0s 33ms/step\n",
      "1/1 [==============================] - 0s 46ms/step\n",
      "1/1 [==============================] - 0s 29ms/step\n",
      "1/1 [==============================] - 0s 23ms/step\n",
      "1/1 [==============================] - 0s 24ms/step\n",
      "1/1 [==============================] - 0s 22ms/step\n",
      "1/1 [==============================] - 0s 18ms/step\n",
      "1/1 [==============================] - 0s 19ms/step\n",
      "1/1 [==============================] - 0s 19ms/step\n",
      "1/1 [==============================] - 0s 20ms/step\n",
      "1/1 [==============================] - 0s 20ms/step\n",
      "1/1 [==============================] - 0s 44ms/step\n",
      "1/1 [==============================] - 0s 24ms/step\n",
      "1/1 [==============================] - 0s 23ms/step\n",
      "1/1 [==============================] - 0s 20ms/step\n",
      "1/1 [==============================] - 0s 21ms/step\n",
      "1/1 [==============================] - 0s 22ms/step\n",
      "1/1 [==============================] - 0s 24ms/step\n",
      "1/1 [==============================] - 0s 56ms/step\n",
      "1/1 [==============================] - 0s 29ms/step\n",
      "1/1 [==============================] - 0s 20ms/step\n",
      "1/1 [==============================] - 0s 22ms/step\n"
     ]
    }
   ],
   "source": [
    "output=[]\n",
    "forecast_open=[]\n",
    "forecast_high=[]\n",
    "forecast_low=[]\n",
    "forecast_close=[]\n",
    "forecast_adjClose=[]\n",
    "i=0\n",
    "while(i<10):\n",
    "    x_input=[]\n",
    "    x_input.append(input_data[i:i+30]) \n",
    "            \n",
    "    x_input=np.array(x_input)\n",
    "    forecast_open.append(model_open.predict(x_input)[0][0])\n",
    "    forecast_high.append(model_high.predict(x_input)[0][0])\n",
    "    forecast_low.append(model_low.predict(x_input)[0][0])\n",
    "    forecast_close.append(model_close.predict(x_input)[0][0])\n",
    "    forecast_adjClose.append(model_adjClose.predict(x_input)[0][0])\n",
    "    \n",
    "    temp=[forecast_open[i],forecast_high[i],forecast_low[i],forecast_close[i],forecast_adjClose[i]]\n",
    "    temp=np.array(temp)\n",
    "    np.vstack([input,temp])\n",
    "    i+=1"
   ]
  },
  {
   "cell_type": "code",
   "execution_count": 83,
   "id": "62edf013",
   "metadata": {},
   "outputs": [],
   "source": [
    "forecast_close=np.array(forecast_close)"
   ]
  },
  {
   "cell_type": "code",
   "execution_count": 84,
   "id": "7bcd8fd3",
   "metadata": {},
   "outputs": [],
   "source": [
    "forecast_close=forecast_close.reshape((10,1))"
   ]
  },
  {
   "cell_type": "code",
   "execution_count": 85,
   "id": "591763ee",
   "metadata": {},
   "outputs": [
    {
     "data": {
      "text/plain": [
       "(10, 1)"
      ]
     },
     "execution_count": 85,
     "metadata": {},
     "output_type": "execute_result"
    }
   ],
   "source": [
    "forecast_close.shape"
   ]
  },
  {
   "cell_type": "code",
   "execution_count": 86,
   "id": "21e65acf",
   "metadata": {},
   "outputs": [],
   "source": [
    "forecast_copies = np.repeat(forecast_close, df_for_training.shape[1], axis=-1)\n",
    "forecast_close = scaler.inverse_transform(forecast_copies)[:,0]"
   ]
  },
  {
   "cell_type": "code",
   "execution_count": 87,
   "id": "aa0cba5b",
   "metadata": {},
   "outputs": [
    {
     "data": {
      "text/plain": [
       "array([578.6958 , 578.92847, 579.1862 , 578.486  , 578.5849 , 578.446  ,\n",
       "       578.5962 , 578.99646, 579.7914 , 579.4289 ], dtype=float32)"
      ]
     },
     "execution_count": 87,
     "metadata": {},
     "output_type": "execute_result"
    }
   ],
   "source": [
    "forecast_close"
   ]
  },
  {
   "cell_type": "code",
   "execution_count": 88,
   "id": "759963c6",
   "metadata": {},
   "outputs": [],
   "source": [
    "forecast_open=np.array(forecast_open)"
   ]
  },
  {
   "cell_type": "code",
   "execution_count": 89,
   "id": "8afa5269",
   "metadata": {},
   "outputs": [],
   "source": [
    "forecast_open=forecast_open.reshape((10,1))"
   ]
  },
  {
   "cell_type": "code",
   "execution_count": 90,
   "id": "f439dae3",
   "metadata": {},
   "outputs": [],
   "source": [
    "forecast_copies = np.repeat(forecast_open, df_for_training.shape[1], axis=-1)\n",
    "forecast_open = scaler.inverse_transform(forecast_copies)[:,0]"
   ]
  },
  {
   "cell_type": "code",
   "execution_count": 91,
   "id": "c6f5d859",
   "metadata": {},
   "outputs": [
    {
     "data": {
      "text/plain": [
       "array([578.2718 , 578.49384, 578.72437, 578.0084 , 578.1246 , 577.9651 ,\n",
       "       578.1181 , 578.586  , 579.4017 , 578.9523 ], dtype=float32)"
      ]
     },
     "execution_count": 91,
     "metadata": {},
     "output_type": "execute_result"
    }
   ],
   "source": [
    "forecast_open"
   ]
  },
  {
   "cell_type": "code",
   "execution_count": null,
   "id": "76f4692a",
   "metadata": {},
   "outputs": [],
   "source": []
  }
 ],
 "metadata": {
  "kernelspec": {
   "display_name": "Python 3.7.5 64-bit",
   "language": "python",
   "name": "python3"
  },
  "language_info": {
   "codemirror_mode": {
    "name": "ipython",
    "version": 3
   },
   "file_extension": ".py",
   "mimetype": "text/x-python",
   "name": "python",
   "nbconvert_exporter": "python",
   "pygments_lexer": "ipython3",
   "version": "3.7.5"
  },
  "vscode": {
   "interpreter": {
    "hash": "203957665280a4143fe5368ba0293775b5df7d26178940757df5eda33eae90e6"
   }
  }
 },
 "nbformat": 4,
 "nbformat_minor": 5
}
